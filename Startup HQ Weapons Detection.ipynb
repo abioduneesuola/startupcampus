{
 "cells": [
  {
   "cell_type": "markdown",
   "id": "9088b237",
   "metadata": {},
   "source": [
    "### - Hello, and welcome to the task. I am Abiodun Eesuola.\n",
    "- Here is a list of the workflow steps:\n",
    "    - Get a small weapon detection dataset (~100–200 images).\n",
    "    - Get 30–50  weapon-related images from public sources.\n",
    "    - Train or fine-tune YOLOv5 or YOLOv8 for handgun/rifle detection.\n",
    "- I will deliver:\n",
    "    - Trained model weights (Drive or GitHub).\n",
    "    - A short report — mAP, example detections, scaling suggestions.\n",
    "    - Annotated dataset (zipped).\n",
    "    - A short note on challenges + dataset-building recommendations.\n"
   ]
  },
  {
   "cell_type": "markdown",
   "id": "c68f02a8",
   "metadata": {},
   "source": [
    "####  1, Getting the dataset.\n",
    "I am using the Weapon Detection Dataset from Kaggle, linked here: https://www.kaggle.com/datasets/snehilsanyal/weapon-detection-test\n",
    "\n",
    "This dataset has 571 training images and 143 validation images, alongside a metadata csv file.\n",
    "As seen on Kaggle, the metadata contains the following information:\n",
    "\n",
    "**imagefile**: \n",
    "Name of the image file, Type: str (e.g  Automatic Rifle_10.jpeg, Automatic Rifle_12.jpeg, etc)\n",
    "\n",
    "**labelfile:**\n",
    "Name of the annotation file (text file annotating the corresponding image), Type: str (e.g Automatic Rifle_10.txt, Automatic Rifle_12.txt, etc)\n",
    "\n",
    "**train_id:**\n",
    "Train ID of the filename, Type: int ( 1 = Train set, 0 = Val set)\n",
    "\n",
    "**target:** \n",
    "Label from the weapon class map, Type: int \n",
    "\n",
    "Map:\n",
    "\n",
    "0 = Automatic Rifle\n",
    "\n",
    "1 = Bazooka\n",
    "\n",
    "2 = Grenade Launcher\n",
    "\n",
    "3 = Handgun\n",
    "\n",
    "4 = Knife\n",
    "\n",
    "5 = Shotgun\n",
    "\n",
    "6 = SMG\n",
    "\n",
    "7 = Sniper\n",
    "\n",
    "8 = Sword\n",
    "\n",
    "\n",
    "I am going to subset these images to handpick the ones corresponding to handgun/rifle as required by the task. These will correspond to integers 0 and 3 on the map\n",
    "\n"
   ]
  },
  {
   "cell_type": "code",
   "execution_count": 8,
   "id": "e7d4a167",
   "metadata": {},
   "outputs": [
    {
     "data": {
      "text/html": [
       "<div>\n",
       "<style scoped>\n",
       "    .dataframe tbody tr th:only-of-type {\n",
       "        vertical-align: middle;\n",
       "    }\n",
       "\n",
       "    .dataframe tbody tr th {\n",
       "        vertical-align: top;\n",
       "    }\n",
       "\n",
       "    .dataframe thead th {\n",
       "        text-align: right;\n",
       "    }\n",
       "</style>\n",
       "<table border=\"1\" class=\"dataframe\">\n",
       "  <thead>\n",
       "    <tr style=\"text-align: right;\">\n",
       "      <th></th>\n",
       "      <th>imagefile</th>\n",
       "      <th>labelfile</th>\n",
       "      <th>target</th>\n",
       "      <th>train_id</th>\n",
       "    </tr>\n",
       "  </thead>\n",
       "  <tbody>\n",
       "    <tr>\n",
       "      <th>0</th>\n",
       "      <td>Automatic Rifle_10.jpeg</td>\n",
       "      <td>Automatic Rifle_10.txt</td>\n",
       "      <td>0</td>\n",
       "      <td>1</td>\n",
       "    </tr>\n",
       "    <tr>\n",
       "      <th>1</th>\n",
       "      <td>Automatic Rifle_100.jpeg</td>\n",
       "      <td>Automatic Rifle_100.txt</td>\n",
       "      <td>0</td>\n",
       "      <td>1</td>\n",
       "    </tr>\n",
       "    <tr>\n",
       "      <th>2</th>\n",
       "      <td>Automatic Rifle_11.jpeg</td>\n",
       "      <td>Automatic Rifle_11.txt</td>\n",
       "      <td>0</td>\n",
       "      <td>1</td>\n",
       "    </tr>\n",
       "    <tr>\n",
       "      <th>3</th>\n",
       "      <td>Automatic Rifle_12.jpeg</td>\n",
       "      <td>Automatic Rifle_12.txt</td>\n",
       "      <td>0</td>\n",
       "      <td>1</td>\n",
       "    </tr>\n",
       "    <tr>\n",
       "      <th>4</th>\n",
       "      <td>Automatic Rifle_13.jpeg</td>\n",
       "      <td>Automatic Rifle_13.txt</td>\n",
       "      <td>0</td>\n",
       "      <td>0</td>\n",
       "    </tr>\n",
       "    <tr>\n",
       "      <th>...</th>\n",
       "      <td>...</td>\n",
       "      <td>...</td>\n",
       "      <td>...</td>\n",
       "      <td>...</td>\n",
       "    </tr>\n",
       "    <tr>\n",
       "      <th>709</th>\n",
       "      <td>Sword_95.jpeg</td>\n",
       "      <td>Sword_95.txt</td>\n",
       "      <td>8</td>\n",
       "      <td>1</td>\n",
       "    </tr>\n",
       "    <tr>\n",
       "      <th>710</th>\n",
       "      <td>Sword_96.jpeg</td>\n",
       "      <td>Sword_96.txt</td>\n",
       "      <td>8</td>\n",
       "      <td>0</td>\n",
       "    </tr>\n",
       "    <tr>\n",
       "      <th>711</th>\n",
       "      <td>Sword_97.jpeg</td>\n",
       "      <td>Sword_97.txt</td>\n",
       "      <td>8</td>\n",
       "      <td>1</td>\n",
       "    </tr>\n",
       "    <tr>\n",
       "      <th>712</th>\n",
       "      <td>Sword_98.jpeg</td>\n",
       "      <td>Sword_98.txt</td>\n",
       "      <td>8</td>\n",
       "      <td>1</td>\n",
       "    </tr>\n",
       "    <tr>\n",
       "      <th>713</th>\n",
       "      <td>Sword_99.jpeg</td>\n",
       "      <td>Sword_99.txt</td>\n",
       "      <td>8</td>\n",
       "      <td>0</td>\n",
       "    </tr>\n",
       "  </tbody>\n",
       "</table>\n",
       "<p>714 rows × 4 columns</p>\n",
       "</div>"
      ],
      "text/plain": [
       "                    imagefile                labelfile  target  train_id\n",
       "0     Automatic Rifle_10.jpeg   Automatic Rifle_10.txt       0         1\n",
       "1    Automatic Rifle_100.jpeg  Automatic Rifle_100.txt       0         1\n",
       "2     Automatic Rifle_11.jpeg   Automatic Rifle_11.txt       0         1\n",
       "3     Automatic Rifle_12.jpeg   Automatic Rifle_12.txt       0         1\n",
       "4     Automatic Rifle_13.jpeg   Automatic Rifle_13.txt       0         0\n",
       "..                        ...                      ...     ...       ...\n",
       "709             Sword_95.jpeg             Sword_95.txt       8         1\n",
       "710             Sword_96.jpeg             Sword_96.txt       8         0\n",
       "711             Sword_97.jpeg             Sword_97.txt       8         1\n",
       "712             Sword_98.jpeg             Sword_98.txt       8         1\n",
       "713             Sword_99.jpeg             Sword_99.txt       8         0\n",
       "\n",
       "[714 rows x 4 columns]"
      ]
     },
     "metadata": {},
     "output_type": "display_data"
    },
    {
     "name": "stdout",
     "output_type": "stream",
     "text": [
      "<class 'pandas.core.frame.DataFrame'>\n",
      "RangeIndex: 714 entries, 0 to 713\n",
      "Data columns (total 4 columns):\n",
      " #   Column     Non-Null Count  Dtype \n",
      "---  ------     --------------  ----- \n",
      " 0   imagefile  714 non-null    object\n",
      " 1   labelfile  714 non-null    object\n",
      " 2   target     714 non-null    int64 \n",
      " 3   train_id   714 non-null    int64 \n",
      "dtypes: int64(2), object(2)\n",
      "memory usage: 22.4+ KB\n",
      "None\n"
     ]
    }
   ],
   "source": [
    "# Checking the metadata csv file to verify and validate the information\n",
    "\n",
    "import pandas as pd\n",
    "met = pd.read_csv(r\"c:\\Users\\USER\\Desktop\\metadata.csv\")\n",
    "display(met)\n",
    "print(met.info())"
   ]
  },
  {
   "attachments": {
    "Screenshot_11-8-2025_15220_www.kaggle.com.jpeg": {
     "image/jpeg": "[encoded data removed]"
    }
   },
   "cell_type": "markdown",
   "id": "d5721a02",
   "metadata": {},
   "source": [
    "![Screenshot_11-8-2025_15220_www.kaggle.com.jpeg](attachment:Screenshot_11-8-2025_15220_www.kaggle.com.jpeg)"
   ]
  },
  {
   "cell_type": "markdown",
   "id": "a13a0d15",
   "metadata": {},
   "source": [
    "I am going to write a script that will:\n",
    "\n",
    "Read the metadata CSV.\n",
    "\n",
    "Filter for only Automatic Rifle (0) and Handgun (3).\n",
    "\n",
    "And then copy those matching images & labels into a new YOLO folder structure."
   ]
  },
  {
   "cell_type": "code",
   "execution_count": null,
   "id": "11bc3892",
   "metadata": {},
   "outputs": [
    {
     "name": "stdout",
     "output_type": "stream",
     "text": [
      "✅ Filtering complete. New dataset saved to: c:\\Users\\USER\\Desktop\\Filtered_Weapons\n"
     ]
    }
   ],
   "source": [
    "import os\n",
    "import shutil\n",
    "import pandas as pd\n",
    "\n",
    "# ==== CONFIG ====\n",
    "metadata_path = r\"c:\\Users\\USER\\Desktop\\metadata.csv\"  # Path to metadata CSV\n",
    "train_root = r\"c:\\Users\\USER\\Desktop\\train\"\n",
    "val_root = r\"c:\\Users\\USER\\Desktop\\val\"\n",
    "output_root = r\"c:\\Users\\USER\\Desktop\\Filtered_Weapons\"  # Output folder\n",
    "\n",
    "# Classes to keep: 0 = Automatic Rifle, 3 = Handgun\n",
    "keep_classes = {0, 3}\n",
    "\n",
    "# ==== CREATE OUTPUT FOLDERS ====\n",
    "for split in [\"train\", \"val\"]:\n",
    "    os.makedirs(os.path.join(output_root, \"images\", split), exist_ok=True)\n",
    "    os.makedirs(os.path.join(output_root, \"labels\", split), exist_ok=True)\n",
    "\n",
    "# ==== LOAD METADATA ====\n",
    "df = pd.read_csv(metadata_path)\n",
    "\n",
    "# Filter for rifles & handguns\n",
    "df_filtered = df[df[\"target\"].isin(keep_classes)]\n",
    "\n",
    "# ==== COPY FILES ====\n",
    "for _, row in df_filtered.iterrows():\n",
    "    img_name = row[\"imagefile\"]\n",
    "    lbl_name = row[\"labelfile\"]\n",
    "    split = \"train\" if row[\"train_id\"] == 1 else \"val\"\n",
    "\n",
    "    if split == \"train\":\n",
    "        src_img_path = os.path.join(train_root, \"images\", img_name)\n",
    "        src_lbl_path = os.path.join(train_root, \"labels\", lbl_name)\n",
    "    else:\n",
    "        src_img_path = os.path.join(val_root, \"images\", img_name)\n",
    "        src_lbl_path = os.path.join(val_root, \"labels\", lbl_name)\n",
    "\n",
    "    dst_img_path = os.path.join(output_root, \"images\", split, img_name)\n",
    "    dst_lbl_path = os.path.join(output_root, \"labels\", split, lbl_name)\n",
    "\n",
    "    # Copy files\n",
    "    if os.path.exists(src_img_path) and os.path.exists(src_lbl_path):\n",
    "        shutil.copy(src_img_path, dst_img_path)\n",
    "        shutil.copy(src_lbl_path, dst_lbl_path)\n",
    "\n",
    "print(\"Filtering complete. New dataset saved to drive in the 'Filtered_Weapons' folder.\")\n"
   ]
  },
  {
   "cell_type": "markdown",
   "id": "b431161b",
   "metadata": {},
   "source": [
    "#### 2, Training/Fine-tuning model\n",
    "The dataset is tiny, so fine-tuning a model is best. It is also best to use a tiny model, since this is an experimental task. I'll use the Yolov8 \"nano\" and/or \"small\" for a perfect balance."
   ]
  },
  {
   "cell_type": "code",
   "execution_count": 15,
   "id": "7b68ad89",
   "metadata": {},
   "outputs": [
    {
     "name": "stdout",
     "output_type": "stream",
     "text": [
      "Name: ultralytics\n",
      "Version: 8.3.177\n",
      "Summary: Ultralytics YOLO 🚀 for SOTA object detection, multi-object tracking, instance segmentation, pose estimation and image classification.\n",
      "Home-page: https://ultralytics.com\n",
      "Author: \n",
      "Author-email: Glenn Jocher <glenn.jocher@ultralytics.com>, Jing Qiu <jing.qiu@ultralytics.com>\n",
      "License: AGPL-3.0\n",
      "Location: C:\\Users\\USER\\AppData\\Roaming\\Python\\Python311\\site-packages\n",
      "Requires: matplotlib, numpy, opencv-python, pandas, pillow, psutil, py-cpuinfo, pyyaml, requests, scipy, torch, torchvision, tqdm, ultralytics-thop\n",
      "Required-by: \n",
      "Note: you may need to restart the kernel to use updated packages.\n"
     ]
    }
   ],
   "source": [
    "# Confirming deps\n",
    "pip show ultralytics"
   ]
  },
  {
   "cell_type": "code",
   "execution_count": 18,
   "id": "a4c811a0",
   "metadata": {},
   "outputs": [
    {
     "name": "stderr",
     "output_type": "stream",
     "text": [
      "Downloading https://github.com/ultralytics/assets/releases/download/v8.3.0/yolov8n.pt to 'yolov8n.pt': 100%|██████████| 6.25M/6.25M [00:39<00:00, 167kB/s] \n"
     ]
    },
    {
     "name": "stdout",
     "output_type": "stream",
     "text": [
      "Ultralytics 8.3.177  Python-3.11.0 torch-2.8.0+cpu CPU (Intel Core(TM) i3-2350M 2.30GHz)\n",
      "\u001b[34m\u001b[1mengine\\trainer: \u001b[0magnostic_nms=False, amp=True, augment=False, auto_augment=randaugment, batch=8, bgr=0.0, box=7.5, cache=False, cfg=None, classes=None, close_mosaic=10, cls=0.5, conf=None, copy_paste=0.0, copy_paste_mode=flip, cos_lr=False, cutmix=0.0, data=C:/Users/USER/Desktop/Filtered_Weapons/weapons.yaml, degrees=0.0, deterministic=True, device=cpu, dfl=1.5, dnn=False, dropout=0.0, dynamic=False, embed=None, epochs=100, erasing=0.4, exist_ok=False, fliplr=0.5, flipud=0.0, format=torchscript, fraction=1.0, freeze=None, half=False, hsv_h=0.015, hsv_s=0.7, hsv_v=0.4, imgsz=640, int8=False, iou=0.7, keras=False, kobj=1.0, line_width=None, lr0=0.01, lrf=0.01, mask_ratio=4, max_det=300, mixup=0.0, mode=train, model=yolov8n.pt, momentum=0.937, mosaic=1.0, multi_scale=False, name=train, nbs=64, nms=False, opset=None, optimize=False, optimizer=auto, overlap_mask=True, patience=5, perspective=0.0, plots=True, pose=12.0, pretrained=True, profile=False, project=None, rect=False, resume=False, retina_masks=False, save=True, save_conf=False, save_crop=False, save_dir=runs\\detect\\train, save_frames=False, save_json=False, save_period=-1, save_txt=False, scale=0.5, seed=0, shear=0.0, show=False, show_boxes=True, show_conf=True, show_labels=True, simplify=True, single_cls=False, source=None, split=val, stream_buffer=False, task=detect, time=None, tracker=botsort.yaml, translate=0.1, val=True, verbose=True, vid_stride=1, visualize=False, warmup_bias_lr=0.1, warmup_epochs=3.0, warmup_momentum=0.8, weight_decay=0.0005, workers=8, workspace=None\n"
     ]
    },
    {
     "name": "stderr",
     "output_type": "stream",
     "text": [
      "Downloading https://ultralytics.com/assets/Arial.ttf to 'C:\\Users\\USER\\AppData\\Roaming\\Ultralytics\\Arial.ttf': 100%|██████████| 755k/755k [00:20<00:00, 37.2kB/s]  \n"
     ]
    },
    {
     "name": "stdout",
     "output_type": "stream",
     "text": [
      "Overriding model.yaml nc=80 with nc=9\n",
      "\n",
      "                   from  n    params  module                                       arguments                     \n",
      "  0                  -1  1       464  ultralytics.nn.modules.conv.Conv             [3, 16, 3, 2]                 \n",
      "  1                  -1  1      4672  ultralytics.nn.modules.conv.Conv             [16, 32, 3, 2]                \n",
      "  2                  -1  1      7360  ultralytics.nn.modules.block.C2f             [32, 32, 1, True]             \n",
      "  3                  -1  1     18560  ultralytics.nn.modules.conv.Conv             [32, 64, 3, 2]                \n",
      "  4                  -1  2     49664  ultralytics.nn.modules.block.C2f             [64, 64, 2, True]             \n",
      "  5                  -1  1     73984  ultralytics.nn.modules.conv.Conv             [64, 128, 3, 2]               \n",
      "  6                  -1  2    197632  ultralytics.nn.modules.block.C2f             [128, 128, 2, True]           \n",
      "  7                  -1  1    295424  ultralytics.nn.modules.conv.Conv             [128, 256, 3, 2]              \n",
      "  8                  -1  1    460288  ultralytics.nn.modules.block.C2f             [256, 256, 1, True]           \n",
      "  9                  -1  1    164608  ultralytics.nn.modules.block.SPPF            [256, 256, 5]                 \n",
      " 10                  -1  1         0  torch.nn.modules.upsampling.Upsample         [None, 2, 'nearest']          \n",
      " 11             [-1, 6]  1         0  ultralytics.nn.modules.conv.Concat           [1]                           \n",
      " 12                  -1  1    148224  ultralytics.nn.modules.block.C2f             [384, 128, 1]                 \n",
      " 13                  -1  1         0  torch.nn.modules.upsampling.Upsample         [None, 2, 'nearest']          \n",
      " 14             [-1, 4]  1         0  ultralytics.nn.modules.conv.Concat           [1]                           \n",
      " 15                  -1  1     37248  ultralytics.nn.modules.block.C2f             [192, 64, 1]                  \n",
      " 16                  -1  1     36992  ultralytics.nn.modules.conv.Conv             [64, 64, 3, 2]                \n",
      " 17            [-1, 12]  1         0  ultralytics.nn.modules.conv.Concat           [1]                           \n",
      " 18                  -1  1    123648  ultralytics.nn.modules.block.C2f             [192, 128, 1]                 \n",
      " 19                  -1  1    147712  ultralytics.nn.modules.conv.Conv             [128, 128, 3, 2]              \n",
      " 20             [-1, 9]  1         0  ultralytics.nn.modules.conv.Concat           [1]                           \n",
      " 21                  -1  1    493056  ultralytics.nn.modules.block.C2f             [384, 256, 1]                 \n",
      " 22        [15, 18, 21]  1    753067  ultralytics.nn.modules.head.Detect           [9, [64, 128, 256]]           \n",
      "Model summary: 129 layers, 3,012,603 parameters, 3,012,587 gradients, 8.2 GFLOPs\n",
      "\n",
      "Transferred 319/355 items from pretrained weights\n",
      "Freezing layer 'model.22.dfl.conv.weight'\n",
      "\u001b[34m\u001b[1mtrain: \u001b[0mFast image access  (ping: 8.39.6 ms, read: 1.81.3 MB/s, size: 126.5 KB)\n"
     ]
    },
    {
     "name": "stderr",
     "output_type": "stream",
     "text": [
      "\u001b[34m\u001b[1mtrain: \u001b[0mScanning C:\\Users\\USER\\Desktop\\Filtered_Weapons\\labels\\train... 115 images, 0 backgrounds, 0 corrupt: 100%|██████████| 115/115 [00:11<00:00,  9.87it/s]"
     ]
    },
    {
     "name": "stdout",
     "output_type": "stream",
     "text": [
      "\u001b[34m\u001b[1mtrain: \u001b[0mNew cache created: C:\\Users\\USER\\Desktop\\Filtered_Weapons\\labels\\train.cache\n"
     ]
    },
    {
     "name": "stderr",
     "output_type": "stream",
     "text": [
      "\n",
      "C:\\Users\\USER\\AppData\\Roaming\\Python\\Python311\\site-packages\\torch\\utils\\data\\dataloader.py:666: UserWarning: 'pin_memory' argument is set as true but no accelerator is found, then device pinned memory won't be used.\n",
      "  warnings.warn(warn_msg)\n"
     ]
    },
    {
     "name": "stdout",
     "output_type": "stream",
     "text": [
      "\u001b[34m\u001b[1mval: \u001b[0mFast image access  (ping: 3.77.5 ms, read: 9.418.9 MB/s, size: 2060.1 KB)\n"
     ]
    },
    {
     "name": "stderr",
     "output_type": "stream",
     "text": [
      "\u001b[34m\u001b[1mval: \u001b[0mScanning C:\\Users\\USER\\Desktop\\Filtered_Weapons\\labels\\val... 29 images, 0 backgrounds, 0 corrupt: 100%|██████████| 29/29 [00:01<00:00, 16.99it/s]\n"
     ]
    },
    {
     "name": "stdout",
     "output_type": "stream",
     "text": [
      "\u001b[34m\u001b[1mval: \u001b[0mNew cache created: C:\\Users\\USER\\Desktop\\Filtered_Weapons\\labels\\val.cache\n"
     ]
    },
    {
     "name": "stderr",
     "output_type": "stream",
     "text": [
      "C:\\Users\\USER\\AppData\\Roaming\\Python\\Python311\\site-packages\\torch\\utils\\data\\dataloader.py:666: UserWarning: 'pin_memory' argument is set as true but no accelerator is found, then device pinned memory won't be used.\n",
      "  warnings.warn(warn_msg)\n"
     ]
    },
    {
     "name": "stdout",
     "output_type": "stream",
     "text": [
      "Plotting labels to runs\\detect\\train\\labels.jpg... \n",
      "\u001b[34m\u001b[1moptimizer:\u001b[0m 'optimizer=auto' found, ignoring 'lr0=0.01' and 'momentum=0.937' and determining best 'optimizer', 'lr0' and 'momentum' automatically... \n",
      "\u001b[34m\u001b[1moptimizer:\u001b[0m AdamW(lr=0.000769, momentum=0.9) with parameter groups 57 weight(decay=0.0), 64 weight(decay=0.0005), 63 bias(decay=0.0)\n",
      "Image sizes 640 train, 640 val\n",
      "Using 0 dataloader workers\n",
      "Logging results to \u001b[1mruns\\detect\\train\u001b[0m\n",
      "Starting training for 100 epochs...\n",
      "\n",
      "      Epoch    GPU_mem   box_loss   cls_loss   dfl_loss  Instances       Size\n"
     ]
    },
    {
     "name": "stderr",
     "output_type": "stream",
     "text": [
      "      1/100         0G      1.242      3.672       1.49          8        640: 100%|██████████| 15/15 [06:14<00:00, 24.96s/it]\n"
     ]
    },
    {
     "data": {
      "text/plain": [
       "<Figure size 640x480 with 0 Axes>"
      ]
     },
     "metadata": {},
     "output_type": "display_data"
    },
    {
     "name": "stderr",
     "output_type": "stream",
     "text": [
      "                 Class     Images  Instances      Box(P          R      mAP50  mAP50-95): 100%|██████████| 2/2 [01:24<00:00, 42.08s/it]\n"
     ]
    },
    {
     "name": "stdout",
     "output_type": "stream",
     "text": [
      "                   all         29         58       0.15       0.69      0.443      0.315\n",
      "\n",
      "      Epoch    GPU_mem   box_loss   cls_loss   dfl_loss  Instances       Size\n"
     ]
    },
    {
     "name": "stderr",
     "output_type": "stream",
     "text": [
      "      2/100         0G       1.12      3.023      1.369          9        640: 100%|██████████| 15/15 [05:57<00:00, 23.83s/it]\n"
     ]
    },
    {
     "data": {
      "text/plain": [
       "<Figure size 640x480 with 0 Axes>"
      ]
     },
     "metadata": {},
     "output_type": "display_data"
    },
    {
     "name": "stderr",
     "output_type": "stream",
     "text": [
      "                 Class     Images  Instances      Box(P          R      mAP50  mAP50-95):   0%|          | 0/2 [00:00<?, ?it/s]"
     ]
    },
    {
     "name": "stdout",
     "output_type": "stream",
     "text": [
      "WARNING NMS time limit 2.800s exceeded\n"
     ]
    },
    {
     "name": "stderr",
     "output_type": "stream",
     "text": [
      "                 Class     Images  Instances      Box(P          R      mAP50  mAP50-95): 100%|██████████| 2/2 [01:31<00:00, 45.55s/it]\n"
     ]
    },
    {
     "name": "stdout",
     "output_type": "stream",
     "text": [
      "                   all         29         58      0.147      0.638      0.526       0.37\n",
      "\n",
      "      Epoch    GPU_mem   box_loss   cls_loss   dfl_loss  Instances       Size\n"
     ]
    },
    {
     "name": "stderr",
     "output_type": "stream",
     "text": [
      "      3/100         0G      1.048       2.13       1.29         22        640: 100%|██████████| 15/15 [04:45<00:00, 19.04s/it]\n"
     ]
    },
    {
     "data": {
      "text/plain": [
       "<Figure size 640x480 with 0 Axes>"
      ]
     },
     "metadata": {},
     "output_type": "display_data"
    },
    {
     "name": "stderr",
     "output_type": "stream",
     "text": [
      "                 Class     Images  Instances      Box(P          R      mAP50  mAP50-95): 100%|██████████| 2/2 [00:21<00:00, 10.55s/it]\n"
     ]
    },
    {
     "name": "stdout",
     "output_type": "stream",
     "text": [
      "                   all         29         58      0.796       0.54      0.766      0.529\n",
      "\n",
      "      Epoch    GPU_mem   box_loss   cls_loss   dfl_loss  Instances       Size\n"
     ]
    },
    {
     "name": "stderr",
     "output_type": "stream",
     "text": [
      "      4/100         0G      1.077      1.853      1.296         10        640: 100%|██████████| 15/15 [04:02<00:00, 16.15s/it]\n"
     ]
    },
    {
     "data": {
      "text/plain": [
       "<Figure size 640x480 with 0 Axes>"
      ]
     },
     "metadata": {},
     "output_type": "display_data"
    },
    {
     "name": "stderr",
     "output_type": "stream",
     "text": [
      "                 Class     Images  Instances      Box(P          R      mAP50  mAP50-95): 100%|██████████| 2/2 [00:18<00:00,  9.13s/it]"
     ]
    },
    {
     "name": "stdout",
     "output_type": "stream",
     "text": [
      "                   all         29         58      0.726      0.638      0.717      0.522\n"
     ]
    },
    {
     "name": "stderr",
     "output_type": "stream",
     "text": [
      "\n"
     ]
    },
    {
     "name": "stdout",
     "output_type": "stream",
     "text": [
      "\n",
      "      Epoch    GPU_mem   box_loss   cls_loss   dfl_loss  Instances       Size\n"
     ]
    },
    {
     "name": "stderr",
     "output_type": "stream",
     "text": [
      "      5/100         0G     0.9519      1.529      1.232         11        640: 100%|██████████| 15/15 [03:44<00:00, 14.94s/it]\n"
     ]
    },
    {
     "data": {
      "text/plain": [
       "<Figure size 640x480 with 0 Axes>"
      ]
     },
     "metadata": {},
     "output_type": "display_data"
    },
    {
     "name": "stderr",
     "output_type": "stream",
     "text": [
      "                 Class     Images  Instances      Box(P          R      mAP50  mAP50-95): 100%|██████████| 2/2 [00:18<00:00,  9.08s/it]"
     ]
    },
    {
     "name": "stdout",
     "output_type": "stream",
     "text": [
      "                   all         29         58        0.6      0.655      0.627      0.452\n"
     ]
    },
    {
     "name": "stderr",
     "output_type": "stream",
     "text": [
      "\n"
     ]
    },
    {
     "name": "stdout",
     "output_type": "stream",
     "text": [
      "\n",
      "      Epoch    GPU_mem   box_loss   cls_loss   dfl_loss  Instances       Size\n"
     ]
    },
    {
     "name": "stderr",
     "output_type": "stream",
     "text": [
      "      6/100         0G     0.9471      1.426      1.297          9        640: 100%|██████████| 15/15 [03:40<00:00, 14.70s/it]\n"
     ]
    },
    {
     "data": {
      "text/plain": [
       "<Figure size 640x480 with 0 Axes>"
      ]
     },
     "metadata": {},
     "output_type": "display_data"
    },
    {
     "name": "stderr",
     "output_type": "stream",
     "text": [
      "                 Class     Images  Instances      Box(P          R      mAP50  mAP50-95): 100%|██████████| 2/2 [00:18<00:00,  9.24s/it]"
     ]
    },
    {
     "name": "stdout",
     "output_type": "stream",
     "text": [
      "                   all         29         58      0.797      0.638      0.772      0.596\n"
     ]
    },
    {
     "name": "stderr",
     "output_type": "stream",
     "text": [
      "\n"
     ]
    },
    {
     "name": "stdout",
     "output_type": "stream",
     "text": [
      "\n",
      "      Epoch    GPU_mem   box_loss   cls_loss   dfl_loss  Instances       Size\n"
     ]
    },
    {
     "name": "stderr",
     "output_type": "stream",
     "text": [
      "      7/100         0G     0.9282      1.366      1.237         25        640: 100%|██████████| 15/15 [03:34<00:00, 14.28s/it]\n"
     ]
    },
    {
     "data": {
      "text/plain": [
       "<Figure size 640x480 with 0 Axes>"
      ]
     },
     "metadata": {},
     "output_type": "display_data"
    },
    {
     "name": "stderr",
     "output_type": "stream",
     "text": [
      "                 Class     Images  Instances      Box(P          R      mAP50  mAP50-95): 100%|██████████| 2/2 [00:16<00:00,  8.05s/it]"
     ]
    },
    {
     "name": "stdout",
     "output_type": "stream",
     "text": [
      "                   all         29         58      0.672      0.812      0.829      0.639\n"
     ]
    },
    {
     "name": "stderr",
     "output_type": "stream",
     "text": [
      "\n"
     ]
    },
    {
     "name": "stdout",
     "output_type": "stream",
     "text": [
      "\n",
      "      Epoch    GPU_mem   box_loss   cls_loss   dfl_loss  Instances       Size\n"
     ]
    },
    {
     "name": "stderr",
     "output_type": "stream",
     "text": [
      "      8/100         0G     0.9305      1.378      1.269         25        640: 100%|██████████| 15/15 [03:51<00:00, 15.45s/it]\n"
     ]
    },
    {
     "data": {
      "text/plain": [
       "<Figure size 640x480 with 0 Axes>"
      ]
     },
     "metadata": {},
     "output_type": "display_data"
    },
    {
     "name": "stderr",
     "output_type": "stream",
     "text": [
      "                 Class     Images  Instances      Box(P          R      mAP50  mAP50-95): 100%|██████████| 2/2 [00:15<00:00,  7.72s/it]"
     ]
    },
    {
     "name": "stdout",
     "output_type": "stream",
     "text": [
      "                   all         29         58      0.791      0.718      0.815      0.627\n"
     ]
    },
    {
     "name": "stderr",
     "output_type": "stream",
     "text": [
      "\n"
     ]
    },
    {
     "name": "stdout",
     "output_type": "stream",
     "text": [
      "\n",
      "      Epoch    GPU_mem   box_loss   cls_loss   dfl_loss  Instances       Size\n"
     ]
    },
    {
     "name": "stderr",
     "output_type": "stream",
     "text": [
      "      9/100         0G     0.9255      1.389      1.277         20        640: 100%|██████████| 15/15 [03:42<00:00, 14.83s/it]\n"
     ]
    },
    {
     "data": {
      "text/plain": [
       "<Figure size 640x480 with 0 Axes>"
      ]
     },
     "metadata": {},
     "output_type": "display_data"
    },
    {
     "name": "stderr",
     "output_type": "stream",
     "text": [
      "                 Class     Images  Instances      Box(P          R      mAP50  mAP50-95): 100%|██████████| 2/2 [00:15<00:00,  7.58s/it]"
     ]
    },
    {
     "name": "stdout",
     "output_type": "stream",
     "text": [
      "                   all         29         58      0.754      0.724      0.806      0.607\n"
     ]
    },
    {
     "name": "stderr",
     "output_type": "stream",
     "text": [
      "\n"
     ]
    },
    {
     "name": "stdout",
     "output_type": "stream",
     "text": [
      "\n",
      "      Epoch    GPU_mem   box_loss   cls_loss   dfl_loss  Instances       Size\n"
     ]
    },
    {
     "name": "stderr",
     "output_type": "stream",
     "text": [
      "     10/100         0G     0.9135       1.28      1.237         10        640: 100%|██████████| 15/15 [03:36<00:00, 14.43s/it]\n"
     ]
    },
    {
     "data": {
      "text/plain": [
       "<Figure size 640x480 with 0 Axes>"
      ]
     },
     "metadata": {},
     "output_type": "display_data"
    },
    {
     "name": "stderr",
     "output_type": "stream",
     "text": [
      "                 Class     Images  Instances      Box(P          R      mAP50  mAP50-95): 100%|██████████| 2/2 [00:15<00:00,  7.76s/it]"
     ]
    },
    {
     "name": "stdout",
     "output_type": "stream",
     "text": [
      "                   all         29         58      0.811      0.891      0.907      0.694\n"
     ]
    },
    {
     "name": "stderr",
     "output_type": "stream",
     "text": [
      "\n"
     ]
    },
    {
     "name": "stdout",
     "output_type": "stream",
     "text": [
      "\n",
      "      Epoch    GPU_mem   box_loss   cls_loss   dfl_loss  Instances       Size\n"
     ]
    },
    {
     "name": "stderr",
     "output_type": "stream",
     "text": [
      "     11/100         0G     0.8145      1.131      1.168         20        640: 100%|██████████| 15/15 [03:42<00:00, 14.80s/it]\n"
     ]
    },
    {
     "data": {
      "text/plain": [
       "<Figure size 640x480 with 0 Axes>"
      ]
     },
     "metadata": {},
     "output_type": "display_data"
    },
    {
     "name": "stderr",
     "output_type": "stream",
     "text": [
      "                 Class     Images  Instances      Box(P          R      mAP50  mAP50-95): 100%|██████████| 2/2 [00:18<00:00,  9.39s/it]"
     ]
    },
    {
     "name": "stdout",
     "output_type": "stream",
     "text": [
      "                   all         29         58      0.781      0.914      0.925      0.713\n"
     ]
    },
    {
     "name": "stderr",
     "output_type": "stream",
     "text": [
      "\n"
     ]
    },
    {
     "name": "stdout",
     "output_type": "stream",
     "text": [
      "\n",
      "      Epoch    GPU_mem   box_loss   cls_loss   dfl_loss  Instances       Size\n"
     ]
    },
    {
     "name": "stderr",
     "output_type": "stream",
     "text": [
      "     12/100         0G     0.8525      1.174      1.188         12        640: 100%|██████████| 15/15 [03:44<00:00, 14.99s/it]\n"
     ]
    },
    {
     "data": {
      "text/plain": [
       "<Figure size 640x480 with 0 Axes>"
      ]
     },
     "metadata": {},
     "output_type": "display_data"
    },
    {
     "name": "stderr",
     "output_type": "stream",
     "text": [
      "                 Class     Images  Instances      Box(P          R      mAP50  mAP50-95): 100%|██████████| 2/2 [00:17<00:00,  8.89s/it]"
     ]
    },
    {
     "name": "stdout",
     "output_type": "stream",
     "text": [
      "                   all         29         58      0.867      0.845      0.923      0.683\n"
     ]
    },
    {
     "name": "stderr",
     "output_type": "stream",
     "text": [
      "\n"
     ]
    },
    {
     "name": "stdout",
     "output_type": "stream",
     "text": [
      "\n",
      "      Epoch    GPU_mem   box_loss   cls_loss   dfl_loss  Instances       Size\n"
     ]
    },
    {
     "name": "stderr",
     "output_type": "stream",
     "text": [
      "     13/100         0G     0.9001      1.242      1.244         17        640: 100%|██████████| 15/15 [03:43<00:00, 14.89s/it]\n"
     ]
    },
    {
     "data": {
      "text/plain": [
       "<Figure size 640x480 with 0 Axes>"
      ]
     },
     "metadata": {},
     "output_type": "display_data"
    },
    {
     "name": "stderr",
     "output_type": "stream",
     "text": [
      "                 Class     Images  Instances      Box(P          R      mAP50  mAP50-95): 100%|██████████| 2/2 [00:17<00:00,  8.90s/it]"
     ]
    },
    {
     "name": "stdout",
     "output_type": "stream",
     "text": [
      "                   all         29         58      0.977      0.733      0.891      0.631\n"
     ]
    },
    {
     "name": "stderr",
     "output_type": "stream",
     "text": [
      "\n"
     ]
    },
    {
     "name": "stdout",
     "output_type": "stream",
     "text": [
      "\n",
      "      Epoch    GPU_mem   box_loss   cls_loss   dfl_loss  Instances       Size\n"
     ]
    },
    {
     "name": "stderr",
     "output_type": "stream",
     "text": [
      "     14/100         0G     0.9302      1.207      1.247         18        640: 100%|██████████| 15/15 [03:39<00:00, 14.66s/it]\n"
     ]
    },
    {
     "data": {
      "text/plain": [
       "<Figure size 640x480 with 0 Axes>"
      ]
     },
     "metadata": {},
     "output_type": "display_data"
    },
    {
     "name": "stderr",
     "output_type": "stream",
     "text": [
      "                 Class     Images  Instances      Box(P          R      mAP50  mAP50-95): 100%|██████████| 2/2 [00:15<00:00,  7.51s/it]"
     ]
    },
    {
     "name": "stdout",
     "output_type": "stream",
     "text": [
      "                   all         29         58      0.978      0.756      0.903      0.671\n"
     ]
    },
    {
     "name": "stderr",
     "output_type": "stream",
     "text": [
      "\n"
     ]
    },
    {
     "name": "stdout",
     "output_type": "stream",
     "text": [
      "\n",
      "      Epoch    GPU_mem   box_loss   cls_loss   dfl_loss  Instances       Size\n"
     ]
    },
    {
     "name": "stderr",
     "output_type": "stream",
     "text": [
      "     15/100         0G     0.8564      1.107      1.178         15        640: 100%|██████████| 15/15 [03:43<00:00, 14.88s/it]\n"
     ]
    },
    {
     "data": {
      "text/plain": [
       "<Figure size 640x480 with 0 Axes>"
      ]
     },
     "metadata": {},
     "output_type": "display_data"
    },
    {
     "name": "stderr",
     "output_type": "stream",
     "text": [
      "                 Class     Images  Instances      Box(P          R      mAP50  mAP50-95): 100%|██████████| 2/2 [00:16<00:00,  8.48s/it]"
     ]
    },
    {
     "name": "stdout",
     "output_type": "stream",
     "text": [
      "                   all         29         58      0.919      0.778       0.93      0.694\n"
     ]
    },
    {
     "name": "stderr",
     "output_type": "stream",
     "text": [
      "\n"
     ]
    },
    {
     "name": "stdout",
     "output_type": "stream",
     "text": [
      "\n",
      "      Epoch    GPU_mem   box_loss   cls_loss   dfl_loss  Instances       Size\n"
     ]
    },
    {
     "name": "stderr",
     "output_type": "stream",
     "text": [
      "     16/100         0G     0.8667      1.165      1.184         17        640: 100%|██████████| 15/15 [03:38<00:00, 14.57s/it]\n"
     ]
    },
    {
     "data": {
      "text/plain": [
       "<Figure size 640x480 with 0 Axes>"
      ]
     },
     "metadata": {},
     "output_type": "display_data"
    },
    {
     "name": "stderr",
     "output_type": "stream",
     "text": [
      "                 Class     Images  Instances      Box(P          R      mAP50  mAP50-95): 100%|██████████| 2/2 [00:17<00:00,  8.74s/it]"
     ]
    },
    {
     "name": "stdout",
     "output_type": "stream",
     "text": [
      "                   all         29         58      0.904      0.813      0.931      0.675\n"
     ]
    },
    {
     "name": "stderr",
     "output_type": "stream",
     "text": [
      "\n"
     ]
    },
    {
     "name": "stdout",
     "output_type": "stream",
     "text": [
      "\u001b[34m\u001b[1mEarlyStopping: \u001b[0mTraining stopped early as no improvement observed in last 5 epochs. Best results observed at epoch 11, best model saved as best.pt.\n",
      "To update EarlyStopping(patience=5) pass a new patience value, i.e. `patience=300` or use `patience=0` to disable EarlyStopping.\n",
      "\n",
      "16 epochs completed in 1.237 hours.\n",
      "Optimizer stripped from runs\\detect\\train\\weights\\last.pt, 6.2MB\n",
      "Optimizer stripped from runs\\detect\\train\\weights\\best.pt, 6.2MB\n",
      "\n",
      "Validating runs\\detect\\train\\weights\\best.pt...\n",
      "Ultralytics 8.3.177  Python-3.11.0 torch-2.8.0+cpu CPU (Intel Core(TM) i3-2350M 2.30GHz)\n",
      "Model summary (fused): 72 layers, 3,007,403 parameters, 0 gradients, 8.1 GFLOPs\n"
     ]
    },
    {
     "name": "stderr",
     "output_type": "stream",
     "text": [
      "                 Class     Images  Instances      Box(P          R      mAP50  mAP50-95): 100%|██████████| 2/2 [00:27<00:00, 13.90s/it]\n"
     ]
    },
    {
     "name": "stdout",
     "output_type": "stream",
     "text": [
      "                   all         29         58      0.782      0.914      0.925      0.713\n",
      "       Automatic Rifle         29         58      0.782      0.914      0.925      0.713\n",
      "Speed: 8.2ms preprocess, 473.6ms inference, 0.0ms loss, 16.5ms postprocess per image\n",
      "Results saved to \u001b[1mruns\\detect\\train\u001b[0m\n"
     ]
    },
    {
     "data": {
      "text/plain": [
       "ultralytics.utils.metrics.DetMetrics object with attributes:\n",
       "\n",
       "ap_class_index: array([0])\n",
       "box: ultralytics.utils.metrics.Metric object\n",
       "confusion_matrix: <ultralytics.utils.metrics.ConfusionMatrix object at 0x0000028D0CBD4C90>\n",
       "curves: ['Precision-Recall(B)', 'F1-Confidence(B)', 'Precision-Confidence(B)', 'Recall-Confidence(B)']\n",
       "curves_results: [[array([          0,    0.001001,    0.002002,    0.003003,    0.004004,    0.005005,    0.006006,    0.007007,    0.008008,    0.009009,     0.01001,    0.011011,    0.012012,    0.013013,    0.014014,    0.015015,    0.016016,    0.017017,    0.018018,    0.019019,     0.02002,    0.021021,    0.022022,    0.023023,\n",
       "          0.024024,    0.025025,    0.026026,    0.027027,    0.028028,    0.029029,     0.03003,    0.031031,    0.032032,    0.033033,    0.034034,    0.035035,    0.036036,    0.037037,    0.038038,    0.039039,     0.04004,    0.041041,    0.042042,    0.043043,    0.044044,    0.045045,    0.046046,    0.047047,\n",
       "          0.048048,    0.049049,     0.05005,    0.051051,    0.052052,    0.053053,    0.054054,    0.055055,    0.056056,    0.057057,    0.058058,    0.059059,     0.06006,    0.061061,    0.062062,    0.063063,    0.064064,    0.065065,    0.066066,    0.067067,    0.068068,    0.069069,     0.07007,    0.071071,\n",
       "          0.072072,    0.073073,    0.074074,    0.075075,    0.076076,    0.077077,    0.078078,    0.079079,     0.08008,    0.081081,    0.082082,    0.083083,    0.084084,    0.085085,    0.086086,    0.087087,    0.088088,    0.089089,     0.09009,    0.091091,    0.092092,    0.093093,    0.094094,    0.095095,\n",
       "          0.096096,    0.097097,    0.098098,    0.099099,      0.1001,      0.1011,      0.1021,      0.1031,      0.1041,     0.10511,     0.10611,     0.10711,     0.10811,     0.10911,     0.11011,     0.11111,     0.11211,     0.11311,     0.11411,     0.11512,     0.11612,     0.11712,     0.11812,     0.11912,\n",
       "           0.12012,     0.12112,     0.12212,     0.12312,     0.12412,     0.12513,     0.12613,     0.12713,     0.12813,     0.12913,     0.13013,     0.13113,     0.13213,     0.13313,     0.13413,     0.13514,     0.13614,     0.13714,     0.13814,     0.13914,     0.14014,     0.14114,     0.14214,     0.14314,\n",
       "           0.14414,     0.14515,     0.14615,     0.14715,     0.14815,     0.14915,     0.15015,     0.15115,     0.15215,     0.15315,     0.15415,     0.15516,     0.15616,     0.15716,     0.15816,     0.15916,     0.16016,     0.16116,     0.16216,     0.16316,     0.16416,     0.16517,     0.16617,     0.16717,\n",
       "           0.16817,     0.16917,     0.17017,     0.17117,     0.17217,     0.17317,     0.17417,     0.17518,     0.17618,     0.17718,     0.17818,     0.17918,     0.18018,     0.18118,     0.18218,     0.18318,     0.18418,     0.18519,     0.18619,     0.18719,     0.18819,     0.18919,     0.19019,     0.19119,\n",
       "           0.19219,     0.19319,     0.19419,      0.1952,      0.1962,      0.1972,      0.1982,      0.1992,      0.2002,      0.2012,      0.2022,      0.2032,      0.2042,     0.20521,     0.20621,     0.20721,     0.20821,     0.20921,     0.21021,     0.21121,     0.21221,     0.21321,     0.21421,     0.21522,\n",
       "           0.21622,     0.21722,     0.21822,     0.21922,     0.22022,     0.22122,     0.22222,     0.22322,     0.22422,     0.22523,     0.22623,     0.22723,     0.22823,     0.22923,     0.23023,     0.23123,     0.23223,     0.23323,     0.23423,     0.23524,     0.23624,     0.23724,     0.23824,     0.23924,\n",
       "           0.24024,     0.24124,     0.24224,     0.24324,     0.24424,     0.24525,     0.24625,     0.24725,     0.24825,     0.24925,     0.25025,     0.25125,     0.25225,     0.25325,     0.25425,     0.25526,     0.25626,     0.25726,     0.25826,     0.25926,     0.26026,     0.26126,     0.26226,     0.26326,\n",
       "           0.26426,     0.26527,     0.26627,     0.26727,     0.26827,     0.26927,     0.27027,     0.27127,     0.27227,     0.27327,     0.27427,     0.27528,     0.27628,     0.27728,     0.27828,     0.27928,     0.28028,     0.28128,     0.28228,     0.28328,     0.28428,     0.28529,     0.28629,     0.28729,\n",
       "           0.28829,     0.28929,     0.29029,     0.29129,     0.29229,     0.29329,     0.29429,      0.2953,      0.2963,      0.2973,      0.2983,      0.2993,      0.3003,      0.3013,      0.3023,      0.3033,      0.3043,     0.30531,     0.30631,     0.30731,     0.30831,     0.30931,     0.31031,     0.31131,\n",
       "           0.31231,     0.31331,     0.31431,     0.31532,     0.31632,     0.31732,     0.31832,     0.31932,     0.32032,     0.32132,     0.32232,     0.32332,     0.32432,     0.32533,     0.32633,     0.32733,     0.32833,     0.32933,     0.33033,     0.33133,     0.33233,     0.33333,     0.33433,     0.33534,\n",
       "           0.33634,     0.33734,     0.33834,     0.33934,     0.34034,     0.34134,     0.34234,     0.34334,     0.34434,     0.34535,     0.34635,     0.34735,     0.34835,     0.34935,     0.35035,     0.35135,     0.35235,     0.35335,     0.35435,     0.35536,     0.35636,     0.35736,     0.35836,     0.35936,\n",
       "           0.36036,     0.36136,     0.36236,     0.36336,     0.36436,     0.36537,     0.36637,     0.36737,     0.36837,     0.36937,     0.37037,     0.37137,     0.37237,     0.37337,     0.37437,     0.37538,     0.37638,     0.37738,     0.37838,     0.37938,     0.38038,     0.38138,     0.38238,     0.38338,\n",
       "           0.38438,     0.38539,     0.38639,     0.38739,     0.38839,     0.38939,     0.39039,     0.39139,     0.39239,     0.39339,     0.39439,      0.3954,      0.3964,      0.3974,      0.3984,      0.3994,      0.4004,      0.4014,      0.4024,      0.4034,      0.4044,     0.40541,     0.40641,     0.40741,\n",
       "           0.40841,     0.40941,     0.41041,     0.41141,     0.41241,     0.41341,     0.41441,     0.41542,     0.41642,     0.41742,     0.41842,     0.41942,     0.42042,     0.42142,     0.42242,     0.42342,     0.42442,     0.42543,     0.42643,     0.42743,     0.42843,     0.42943,     0.43043,     0.43143,\n",
       "           0.43243,     0.43343,     0.43443,     0.43544,     0.43644,     0.43744,     0.43844,     0.43944,     0.44044,     0.44144,     0.44244,     0.44344,     0.44444,     0.44545,     0.44645,     0.44745,     0.44845,     0.44945,     0.45045,     0.45145,     0.45245,     0.45345,     0.45445,     0.45546,\n",
       "           0.45646,     0.45746,     0.45846,     0.45946,     0.46046,     0.46146,     0.46246,     0.46346,     0.46446,     0.46547,     0.46647,     0.46747,     0.46847,     0.46947,     0.47047,     0.47147,     0.47247,     0.47347,     0.47447,     0.47548,     0.47648,     0.47748,     0.47848,     0.47948,\n",
       "           0.48048,     0.48148,     0.48248,     0.48348,     0.48448,     0.48549,     0.48649,     0.48749,     0.48849,     0.48949,     0.49049,     0.49149,     0.49249,     0.49349,     0.49449,      0.4955,      0.4965,      0.4975,      0.4985,      0.4995,      0.5005,      0.5015,      0.5025,      0.5035,\n",
       "            0.5045,     0.50551,     0.50651,     0.50751,     0.50851,     0.50951,     0.51051,     0.51151,     0.51251,     0.51351,     0.51451,     0.51552,     0.51652,     0.51752,     0.51852,     0.51952,     0.52052,     0.52152,     0.52252,     0.52352,     0.52452,     0.52553,     0.52653,     0.52753,\n",
       "           0.52853,     0.52953,     0.53053,     0.53153,     0.53253,     0.53353,     0.53453,     0.53554,     0.53654,     0.53754,     0.53854,     0.53954,     0.54054,     0.54154,     0.54254,     0.54354,     0.54454,     0.54555,     0.54655,     0.54755,     0.54855,     0.54955,     0.55055,     0.55155,\n",
       "           0.55255,     0.55355,     0.55455,     0.55556,     0.55656,     0.55756,     0.55856,     0.55956,     0.56056,     0.56156,     0.56256,     0.56356,     0.56456,     0.56557,     0.56657,     0.56757,     0.56857,     0.56957,     0.57057,     0.57157,     0.57257,     0.57357,     0.57457,     0.57558,\n",
       "           0.57658,     0.57758,     0.57858,     0.57958,     0.58058,     0.58158,     0.58258,     0.58358,     0.58458,     0.58559,     0.58659,     0.58759,     0.58859,     0.58959,     0.59059,     0.59159,     0.59259,     0.59359,     0.59459,      0.5956,      0.5966,      0.5976,      0.5986,      0.5996,\n",
       "            0.6006,      0.6016,      0.6026,      0.6036,      0.6046,     0.60561,     0.60661,     0.60761,     0.60861,     0.60961,     0.61061,     0.61161,     0.61261,     0.61361,     0.61461,     0.61562,     0.61662,     0.61762,     0.61862,     0.61962,     0.62062,     0.62162,     0.62262,     0.62362,\n",
       "           0.62462,     0.62563,     0.62663,     0.62763,     0.62863,     0.62963,     0.63063,     0.63163,     0.63263,     0.63363,     0.63463,     0.63564,     0.63664,     0.63764,     0.63864,     0.63964,     0.64064,     0.64164,     0.64264,     0.64364,     0.64464,     0.64565,     0.64665,     0.64765,\n",
       "           0.64865,     0.64965,     0.65065,     0.65165,     0.65265,     0.65365,     0.65465,     0.65566,     0.65666,     0.65766,     0.65866,     0.65966,     0.66066,     0.66166,     0.66266,     0.66366,     0.66466,     0.66567,     0.66667,     0.66767,     0.66867,     0.66967,     0.67067,     0.67167,\n",
       "           0.67267,     0.67367,     0.67467,     0.67568,     0.67668,     0.67768,     0.67868,     0.67968,     0.68068,     0.68168,     0.68268,     0.68368,     0.68468,     0.68569,     0.68669,     0.68769,     0.68869,     0.68969,     0.69069,     0.69169,     0.69269,     0.69369,     0.69469,      0.6957,\n",
       "            0.6967,      0.6977,      0.6987,      0.6997,      0.7007,      0.7017,      0.7027,      0.7037,      0.7047,     0.70571,     0.70671,     0.70771,     0.70871,     0.70971,     0.71071,     0.71171,     0.71271,     0.71371,     0.71471,     0.71572,     0.71672,     0.71772,     0.71872,     0.71972,\n",
       "           0.72072,     0.72172,     0.72272,     0.72372,     0.72472,     0.72573,     0.72673,     0.72773,     0.72873,     0.72973,     0.73073,     0.73173,     0.73273,     0.73373,     0.73473,     0.73574,     0.73674,     0.73774,     0.73874,     0.73974,     0.74074,     0.74174,     0.74274,     0.74374,\n",
       "           0.74474,     0.74575,     0.74675,     0.74775,     0.74875,     0.74975,     0.75075,     0.75175,     0.75275,     0.75375,     0.75475,     0.75576,     0.75676,     0.75776,     0.75876,     0.75976,     0.76076,     0.76176,     0.76276,     0.76376,     0.76476,     0.76577,     0.76677,     0.76777,\n",
       "           0.76877,     0.76977,     0.77077,     0.77177,     0.77277,     0.77377,     0.77477,     0.77578,     0.77678,     0.77778,     0.77878,     0.77978,     0.78078,     0.78178,     0.78278,     0.78378,     0.78478,     0.78579,     0.78679,     0.78779,     0.78879,     0.78979,     0.79079,     0.79179,\n",
       "           0.79279,     0.79379,     0.79479,      0.7958,      0.7968,      0.7978,      0.7988,      0.7998,      0.8008,      0.8018,      0.8028,      0.8038,      0.8048,     0.80581,     0.80681,     0.80781,     0.80881,     0.80981,     0.81081,     0.81181,     0.81281,     0.81381,     0.81481,     0.81582,\n",
       "           0.81682,     0.81782,     0.81882,     0.81982,     0.82082,     0.82182,     0.82282,     0.82382,     0.82482,     0.82583,     0.82683,     0.82783,     0.82883,     0.82983,     0.83083,     0.83183,     0.83283,     0.83383,     0.83483,     0.83584,     0.83684,     0.83784,     0.83884,     0.83984,\n",
       "           0.84084,     0.84184,     0.84284,     0.84384,     0.84484,     0.84585,     0.84685,     0.84785,     0.84885,     0.84985,     0.85085,     0.85185,     0.85285,     0.85385,     0.85485,     0.85586,     0.85686,     0.85786,     0.85886,     0.85986,     0.86086,     0.86186,     0.86286,     0.86386,\n",
       "           0.86486,     0.86587,     0.86687,     0.86787,     0.86887,     0.86987,     0.87087,     0.87187,     0.87287,     0.87387,     0.87487,     0.87588,     0.87688,     0.87788,     0.87888,     0.87988,     0.88088,     0.88188,     0.88288,     0.88388,     0.88488,     0.88589,     0.88689,     0.88789,\n",
       "           0.88889,     0.88989,     0.89089,     0.89189,     0.89289,     0.89389,     0.89489,      0.8959,      0.8969,      0.8979,      0.8989,      0.8999,      0.9009,      0.9019,      0.9029,      0.9039,      0.9049,     0.90591,     0.90691,     0.90791,     0.90891,     0.90991,     0.91091,     0.91191,\n",
       "           0.91291,     0.91391,     0.91491,     0.91592,     0.91692,     0.91792,     0.91892,     0.91992,     0.92092,     0.92192,     0.92292,     0.92392,     0.92492,     0.92593,     0.92693,     0.92793,     0.92893,     0.92993,     0.93093,     0.93193,     0.93293,     0.93393,     0.93493,     0.93594,\n",
       "           0.93694,     0.93794,     0.93894,     0.93994,     0.94094,     0.94194,     0.94294,     0.94394,     0.94494,     0.94595,     0.94695,     0.94795,     0.94895,     0.94995,     0.95095,     0.95195,     0.95295,     0.95395,     0.95495,     0.95596,     0.95696,     0.95796,     0.95896,     0.95996,\n",
       "           0.96096,     0.96196,     0.96296,     0.96396,     0.96496,     0.96597,     0.96697,     0.96797,     0.96897,     0.96997,     0.97097,     0.97197,     0.97297,     0.97397,     0.97497,     0.97598,     0.97698,     0.97798,     0.97898,     0.97998,     0.98098,     0.98198,     0.98298,     0.98398,\n",
       "           0.98498,     0.98599,     0.98699,     0.98799,     0.98899,     0.98999,     0.99099,     0.99199,     0.99299,     0.99399,     0.99499,       0.996,       0.997,       0.998,       0.999,           1]), array([[          1,           1,           1,           1,           1,           1,           1,           1,           1,           1,           1,           1,           1,           1,           1,           1,           1,           1,           1,           1,           1,           1,           1,\n",
       "                  1,           1,           1,           1,           1,           1,           1,           1,           1,           1,           1,           1,           1,           1,           1,           1,           1,           1,           1,           1,           1,           1,           1,\n",
       "                  1,           1,           1,           1,           1,           1,           1,           1,           1,           1,           1,           1,           1,           1,           1,           1,           1,           1,           1,           1,           1,           1,           1,\n",
       "                  1,           1,           1,           1,           1,           1,           1,           1,           1,           1,           1,           1,           1,           1,           1,           1,           1,           1,           1,           1,           1,           1,           1,\n",
       "                  1,           1,           1,           1,           1,           1,           1,           1,           1,           1,           1,           1,           1,           1,           1,           1,           1,           1,           1,           1,           1,           1,           1,\n",
       "                  1,           1,           1,           1,           1,           1,           1,           1,           1,           1,           1,           1,           1,           1,           1,           1,           1,           1,           1,           1,           1,           1,           1,\n",
       "                  1,           1,           1,           1,           1,           1,           1,           1,           1,           1,           1,           1,           1,           1,           1,           1,           1,           1,           1,           1,           1,           1,           1,\n",
       "                  1,           1,           1,           1,           1,           1,           1,           1,           1,           1,           1,           1,           1,           1,           1,           1,           1,           1,           1,           1,           1,           1,           1,\n",
       "                  1,           1,           1,           1,           1,           1,           1,           1,           1,           1,           1,           1,           1,           1,           1,           1,           1,           1,           1,           1,           1,           1,           1,\n",
       "                  1,           1,           1,           1,           1,           1,           1,           1,           1,           1,           1,           1,           1,           1,           1,           1,           1,           1,           1,           1,           1,           1,           1,\n",
       "                  1,           1,           1,           1,           1,           1,           1,           1,           1,           1,           1,           1,           1,           1,           1,           1,           1,           1,           1,           1,           1,           1,           1,\n",
       "                  1,           1,           1,           1,           1,           1,           1,           1,           1,           1,           1,           1,           1,           1,           1,           1,           1,           1,           1,           1,           1,           1,           1,\n",
       "                  1,           1,           1,           1,           1,           1,           1,           1,           1,           1,           1,           1,           1,           1,           1,           1,           1,           1,           1,           1,           1,           1,           1,\n",
       "                  1,           1,           1,           1,           1,           1,           1,           1,           1,           1,           1,           1,           1,           1,           1,           1,           1,           1,           1,           1,           1,           1,           1,\n",
       "                  1,           1,           1,           1,           1,           1,           1,           1,           1,           1,           1,           1,           1,           1,           1,           1,           1,           1,           1,           1,           1,           1,           1,\n",
       "                  1,           1,           1,           1,           1,           1,           1,           1,           1,           1,           1,           1,           1,           1,           1,           1,           1,           1,           1,           1,           1,           1,           1,\n",
       "                  1,           1,           1,           1,           1,           1,           1,           1,           1,           1,           1,           1,           1,           1,           1,           1,           1,           1,           1,           1,           1,           1,           1,\n",
       "                  1,           1,           1,           1,           1,           1,           1,           1,           1,           1,           1,           1,           1,           1,           1,           1,           1,           1,           1,           1,           1,           1,           1,\n",
       "                  1,           1,           1,           1,           1,           1,           1,           1,           1,           1,           1,           1,           1,           1,           1,           1,           1,           1,           1,           1,           1,           1,           1,\n",
       "                  1,           1,           1,           1,           1,           1,           1,           1,           1,           1,           1,           1,           1,           1,           1,           1,           1,           1,           1,           1,           1,           1,           1,\n",
       "                  1,           1,           1,           1,           1,           1,           1,           1,           1,           1,           1,           1,           1,           1,           1,           1,           1,           1,           1,           1,           1,           1,           1,\n",
       "                  1,           1,           1,           1,           1,           1,           1,           1,           1,           1,           1,           1,           1,           1,           1,           1,           1,           1,           1,           1,           1,           1,           1,\n",
       "                  1,           1,           1,           1,           1,           1,           1,           1,           1,           1,           1,           1,           1,           1,           1,           1,           1,           1,           1,           1,           1,           1,           1,\n",
       "                  1,           1,           1,           1,           1,           1,           1,           1,           1,           1,           1,           1,           1,           1,           1,           1,           1,           1,           1,           1,           1,           1,           1,\n",
       "                  1,           1,           1,           1,           1,           1,           1,           1,           1,           1,           1,           1,           1,           1,           1,           1,           1,           1,           1,           1,           1,           1,           1,\n",
       "                  1,           1,           1,           1,           1,           1,           1,           1,           1,           1,           1,           1,           1,           1,           1,           1,           1,           1,           1,           1,           1,           1,           1,\n",
       "                  1,           1,           1,           1,           1,           1,           1,           1,           1,           1,           1,           1,           1,           1,           1,           1,           1,           1,           1,           1,           1,           1,           1,\n",
       "                  1,           1,           1,           1,           1,           1,           1,           1,           1,           1,           1,           1,           1,           1,           1,           1,           1,           1,           1,           1,           1,           1,           1,\n",
       "                  1,           1,           1,           1,           1,           1,           1,           1,           1,           1,           1,           1,           1,           1,           1,           1,           1,           1,           1,           1,           1,           1,           1,\n",
       "                  1,           1,           1,           1,           1,           1,           1,           1,           1,           1,           1,           1,           1,           1,           1,           1,           1,           1,           1,           1,           1,           1,     0.97674,\n",
       "            0.97674,     0.97674,     0.97674,     0.97674,     0.97674,     0.97674,     0.97674,     0.97674,     0.97674,     0.97674,     0.97674,     0.97674,     0.97674,     0.97674,     0.97674,     0.97674,     0.97674,     0.97674,     0.97674,     0.97674,     0.97674,     0.97674,     0.97674,\n",
       "            0.97674,     0.97674,     0.97674,     0.97674,     0.97674,     0.97674,     0.97674,     0.97674,     0.97674,     0.97674,     0.97674,     0.95652,     0.95652,     0.95652,     0.95652,     0.95652,     0.95652,     0.95652,     0.95652,     0.95652,     0.95652,     0.95652,     0.95652,\n",
       "            0.95652,     0.95652,     0.95652,     0.95652,     0.95652,     0.95652,     0.95652,     0.95652,     0.95652,     0.95652,     0.95652,     0.95652,     0.95652,     0.95652,     0.95652,     0.95652,     0.95652,     0.95652,     0.95652,     0.95652,     0.95652,     0.95652,     0.91837,\n",
       "            0.91837,     0.91837,     0.91837,     0.91837,     0.91837,     0.91837,     0.91837,     0.91837,     0.91837,     0.91837,     0.91837,     0.91837,     0.91837,     0.91837,     0.91837,     0.91837,     0.91837,     0.85185,     0.85185,     0.85185,     0.85185,     0.85185,     0.85185,\n",
       "            0.85185,     0.85185,     0.85185,     0.85185,     0.85185,     0.85185,     0.85185,     0.85185,     0.85185,     0.85185,     0.85185,     0.81538,     0.81538,     0.81538,     0.81538,     0.81538,     0.81538,     0.81538,     0.81538,     0.81538,     0.81538,     0.81538,     0.81538,\n",
       "            0.81538,     0.81538,     0.81538,     0.81538,     0.81538,     0.81538,     0.81538,     0.81538,     0.81538,     0.81538,     0.81538,     0.81538,     0.81538,     0.81538,     0.81538,     0.81538,     0.81538,     0.81538,     0.81538,     0.81538,     0.81538,     0.81538,     0.81538,\n",
       "            0.81538,     0.81538,     0.81538,     0.81538,     0.81538,     0.81538,     0.81538,     0.81538,     0.81538,     0.81538,     0.81538,     0.81538,     0.81538,     0.81538,     0.81538,     0.81538,     0.81538,     0.81538,     0.81538,     0.81538,     0.81538,     0.81538,     0.81538,\n",
       "            0.81538,     0.81538,     0.81538,     0.81538,     0.81538,     0.81538,     0.81538,     0.81538,     0.81538,     0.81538,     0.81538,     0.81538,     0.81538,     0.81538,     0.81538,     0.81538,     0.81538,     0.81538,     0.81538,     0.81538,     0.81538,     0.81538,     0.81538,\n",
       "            0.81538,     0.81538,     0.81538,     0.81538,     0.81538,     0.81538,     0.81538,     0.81538,     0.81538,     0.81538,     0.81538,     0.81538,     0.81538,     0.81538,     0.81538,     0.81538,     0.81538,     0.81538,     0.81538,     0.81538,     0.81538,     0.81538,     0.81538,\n",
       "            0.81538,     0.81538,     0.81538,     0.81538,     0.81538,     0.81538,     0.81538,     0.81538,     0.81538,     0.81538,     0.81538,     0.81538,     0.81538,     0.81538,     0.81538,     0.81538,     0.62791,     0.62791,     0.62791,     0.62791,     0.62791,     0.62791,     0.62791,\n",
       "            0.62791,     0.62791,     0.62791,     0.62791,     0.62791,     0.62791,     0.62791,     0.62791,     0.62791,     0.62791,     0.62791,     0.58511,     0.58511,     0.58511,     0.58511,     0.58511,     0.58511,     0.58511,     0.58511,     0.58511,     0.58511,     0.58511,     0.58511,\n",
       "            0.58511,     0.58511,     0.58511,     0.58511,     0.58511,     0.57732,     0.57732,     0.57732,     0.57732,     0.57732,     0.57732,     0.57732,     0.57732,     0.57732,     0.57732,     0.57732,     0.57732,     0.57732,     0.57732,     0.57732,     0.57732,     0.57732,     0.31844,\n",
       "            0.31844,     0.31844,     0.31844,     0.31844,     0.31844,     0.31844,     0.31844,     0.31844,     0.31844,     0.31844,     0.31844,     0.31844,     0.31844,     0.31844,     0.31844,     0.31844,     0.25108,     0.25108,     0.25108,     0.25108,     0.25108,     0.25108,     0.25108,\n",
       "            0.25108,     0.25108,     0.25108,     0.25108,     0.25108,     0.25108,     0.25108,     0.25108,     0.25108,     0.25108,           0]]), 'Recall', 'Precision'], [array([          0,    0.001001,    0.002002,    0.003003,    0.004004,    0.005005,    0.006006,    0.007007,    0.008008,    0.009009,     0.01001,    0.011011,    0.012012,    0.013013,    0.014014,    0.015015,    0.016016,    0.017017,    0.018018,    0.019019,     0.02002,    0.021021,    0.022022,    0.023023,\n",
       "          0.024024,    0.025025,    0.026026,    0.027027,    0.028028,    0.029029,     0.03003,    0.031031,    0.032032,    0.033033,    0.034034,    0.035035,    0.036036,    0.037037,    0.038038,    0.039039,     0.04004,    0.041041,    0.042042,    0.043043,    0.044044,    0.045045,    0.046046,    0.047047,\n",
       "          0.048048,    0.049049,     0.05005,    0.051051,    0.052052,    0.053053,    0.054054,    0.055055,    0.056056,    0.057057,    0.058058,    0.059059,     0.06006,    0.061061,    0.062062,    0.063063,    0.064064,    0.065065,    0.066066,    0.067067,    0.068068,    0.069069,     0.07007,    0.071071,\n",
       "          0.072072,    0.073073,    0.074074,    0.075075,    0.076076,    0.077077,    0.078078,    0.079079,     0.08008,    0.081081,    0.082082,    0.083083,    0.084084,    0.085085,    0.086086,    0.087087,    0.088088,    0.089089,     0.09009,    0.091091,    0.092092,    0.093093,    0.094094,    0.095095,\n",
       "          0.096096,    0.097097,    0.098098,    0.099099,      0.1001,      0.1011,      0.1021,      0.1031,      0.1041,     0.10511,     0.10611,     0.10711,     0.10811,     0.10911,     0.11011,     0.11111,     0.11211,     0.11311,     0.11411,     0.11512,     0.11612,     0.11712,     0.11812,     0.11912,\n",
       "           0.12012,     0.12112,     0.12212,     0.12312,     0.12412,     0.12513,     0.12613,     0.12713,     0.12813,     0.12913,     0.13013,     0.13113,     0.13213,     0.13313,     0.13413,     0.13514,     0.13614,     0.13714,     0.13814,     0.13914,     0.14014,     0.14114,     0.14214,     0.14314,\n",
       "           0.14414,     0.14515,     0.14615,     0.14715,     0.14815,     0.14915,     0.15015,     0.15115,     0.15215,     0.15315,     0.15415,     0.15516,     0.15616,     0.15716,     0.15816,     0.15916,     0.16016,     0.16116,     0.16216,     0.16316,     0.16416,     0.16517,     0.16617,     0.16717,\n",
       "           0.16817,     0.16917,     0.17017,     0.17117,     0.17217,     0.17317,     0.17417,     0.17518,     0.17618,     0.17718,     0.17818,     0.17918,     0.18018,     0.18118,     0.18218,     0.18318,     0.18418,     0.18519,     0.18619,     0.18719,     0.18819,     0.18919,     0.19019,     0.19119,\n",
       "           0.19219,     0.19319,     0.19419,      0.1952,      0.1962,      0.1972,      0.1982,      0.1992,      0.2002,      0.2012,      0.2022,      0.2032,      0.2042,     0.20521,     0.20621,     0.20721,     0.20821,     0.20921,     0.21021,     0.21121,     0.21221,     0.21321,     0.21421,     0.21522,\n",
       "           0.21622,     0.21722,     0.21822,     0.21922,     0.22022,     0.22122,     0.22222,     0.22322,     0.22422,     0.22523,     0.22623,     0.22723,     0.22823,     0.22923,     0.23023,     0.23123,     0.23223,     0.23323,     0.23423,     0.23524,     0.23624,     0.23724,     0.23824,     0.23924,\n",
       "           0.24024,     0.24124,     0.24224,     0.24324,     0.24424,     0.24525,     0.24625,     0.24725,     0.24825,     0.24925,     0.25025,     0.25125,     0.25225,     0.25325,     0.25425,     0.25526,     0.25626,     0.25726,     0.25826,     0.25926,     0.26026,     0.26126,     0.26226,     0.26326,\n",
       "           0.26426,     0.26527,     0.26627,     0.26727,     0.26827,     0.26927,     0.27027,     0.27127,     0.27227,     0.27327,     0.27427,     0.27528,     0.27628,     0.27728,     0.27828,     0.27928,     0.28028,     0.28128,     0.28228,     0.28328,     0.28428,     0.28529,     0.28629,     0.28729,\n",
       "           0.28829,     0.28929,     0.29029,     0.29129,     0.29229,     0.29329,     0.29429,      0.2953,      0.2963,      0.2973,      0.2983,      0.2993,      0.3003,      0.3013,      0.3023,      0.3033,      0.3043,     0.30531,     0.30631,     0.30731,     0.30831,     0.30931,     0.31031,     0.31131,\n",
       "           0.31231,     0.31331,     0.31431,     0.31532,     0.31632,     0.31732,     0.31832,     0.31932,     0.32032,     0.32132,     0.32232,     0.32332,     0.32432,     0.32533,     0.32633,     0.32733,     0.32833,     0.32933,     0.33033,     0.33133,     0.33233,     0.33333,     0.33433,     0.33534,\n",
       "           0.33634,     0.33734,     0.33834,     0.33934,     0.34034,     0.34134,     0.34234,     0.34334,     0.34434,     0.34535,     0.34635,     0.34735,     0.34835,     0.34935,     0.35035,     0.35135,     0.35235,     0.35335,     0.35435,     0.35536,     0.35636,     0.35736,     0.35836,     0.35936,\n",
       "           0.36036,     0.36136,     0.36236,     0.36336,     0.36436,     0.36537,     0.36637,     0.36737,     0.36837,     0.36937,     0.37037,     0.37137,     0.37237,     0.37337,     0.37437,     0.37538,     0.37638,     0.37738,     0.37838,     0.37938,     0.38038,     0.38138,     0.38238,     0.38338,\n",
       "           0.38438,     0.38539,     0.38639,     0.38739,     0.38839,     0.38939,     0.39039,     0.39139,     0.39239,     0.39339,     0.39439,      0.3954,      0.3964,      0.3974,      0.3984,      0.3994,      0.4004,      0.4014,      0.4024,      0.4034,      0.4044,     0.40541,     0.40641,     0.40741,\n",
       "           0.40841,     0.40941,     0.41041,     0.41141,     0.41241,     0.41341,     0.41441,     0.41542,     0.41642,     0.41742,     0.41842,     0.41942,     0.42042,     0.42142,     0.42242,     0.42342,     0.42442,     0.42543,     0.42643,     0.42743,     0.42843,     0.42943,     0.43043,     0.43143,\n",
       "           0.43243,     0.43343,     0.43443,     0.43544,     0.43644,     0.43744,     0.43844,     0.43944,     0.44044,     0.44144,     0.44244,     0.44344,     0.44444,     0.44545,     0.44645,     0.44745,     0.44845,     0.44945,     0.45045,     0.45145,     0.45245,     0.45345,     0.45445,     0.45546,\n",
       "           0.45646,     0.45746,     0.45846,     0.45946,     0.46046,     0.46146,     0.46246,     0.46346,     0.46446,     0.46547,     0.46647,     0.46747,     0.46847,     0.46947,     0.47047,     0.47147,     0.47247,     0.47347,     0.47447,     0.47548,     0.47648,     0.47748,     0.47848,     0.47948,\n",
       "           0.48048,     0.48148,     0.48248,     0.48348,     0.48448,     0.48549,     0.48649,     0.48749,     0.48849,     0.48949,     0.49049,     0.49149,     0.49249,     0.49349,     0.49449,      0.4955,      0.4965,      0.4975,      0.4985,      0.4995,      0.5005,      0.5015,      0.5025,      0.5035,\n",
       "            0.5045,     0.50551,     0.50651,     0.50751,     0.50851,     0.50951,     0.51051,     0.51151,     0.51251,     0.51351,     0.51451,     0.51552,     0.51652,     0.51752,     0.51852,     0.51952,     0.52052,     0.52152,     0.52252,     0.52352,     0.52452,     0.52553,     0.52653,     0.52753,\n",
       "           0.52853,     0.52953,     0.53053,     0.53153,     0.53253,     0.53353,     0.53453,     0.53554,     0.53654,     0.53754,     0.53854,     0.53954,     0.54054,     0.54154,     0.54254,     0.54354,     0.54454,     0.54555,     0.54655,     0.54755,     0.54855,     0.54955,     0.55055,     0.55155,\n",
       "           0.55255,     0.55355,     0.55455,     0.55556,     0.55656,     0.55756,     0.55856,     0.55956,     0.56056,     0.56156,     0.56256,     0.56356,     0.56456,     0.56557,     0.56657,     0.56757,     0.56857,     0.56957,     0.57057,     0.57157,     0.57257,     0.57357,     0.57457,     0.57558,\n",
       "           0.57658,     0.57758,     0.57858,     0.57958,     0.58058,     0.58158,     0.58258,     0.58358,     0.58458,     0.58559,     0.58659,     0.58759,     0.58859,     0.58959,     0.59059,     0.59159,     0.59259,     0.59359,     0.59459,      0.5956,      0.5966,      0.5976,      0.5986,      0.5996,\n",
       "            0.6006,      0.6016,      0.6026,      0.6036,      0.6046,     0.60561,     0.60661,     0.60761,     0.60861,     0.60961,     0.61061,     0.61161,     0.61261,     0.61361,     0.61461,     0.61562,     0.61662,     0.61762,     0.61862,     0.61962,     0.62062,     0.62162,     0.62262,     0.62362,\n",
       "           0.62462,     0.62563,     0.62663,     0.62763,     0.62863,     0.62963,     0.63063,     0.63163,     0.63263,     0.63363,     0.63463,     0.63564,     0.63664,     0.63764,     0.63864,     0.63964,     0.64064,     0.64164,     0.64264,     0.64364,     0.64464,     0.64565,     0.64665,     0.64765,\n",
       "           0.64865,     0.64965,     0.65065,     0.65165,     0.65265,     0.65365,     0.65465,     0.65566,     0.65666,     0.65766,     0.65866,     0.65966,     0.66066,     0.66166,     0.66266,     0.66366,     0.66466,     0.66567,     0.66667,     0.66767,     0.66867,     0.66967,     0.67067,     0.67167,\n",
       "           0.67267,     0.67367,     0.67467,     0.67568,     0.67668,     0.67768,     0.67868,     0.67968,     0.68068,     0.68168,     0.68268,     0.68368,     0.68468,     0.68569,     0.68669,     0.68769,     0.68869,     0.68969,     0.69069,     0.69169,     0.69269,     0.69369,     0.69469,      0.6957,\n",
       "            0.6967,      0.6977,      0.6987,      0.6997,      0.7007,      0.7017,      0.7027,      0.7037,      0.7047,     0.70571,     0.70671,     0.70771,     0.70871,     0.70971,     0.71071,     0.71171,     0.71271,     0.71371,     0.71471,     0.71572,     0.71672,     0.71772,     0.71872,     0.71972,\n",
       "           0.72072,     0.72172,     0.72272,     0.72372,     0.72472,     0.72573,     0.72673,     0.72773,     0.72873,     0.72973,     0.73073,     0.73173,     0.73273,     0.73373,     0.73473,     0.73574,     0.73674,     0.73774,     0.73874,     0.73974,     0.74074,     0.74174,     0.74274,     0.74374,\n",
       "           0.74474,     0.74575,     0.74675,     0.74775,     0.74875,     0.74975,     0.75075,     0.75175,     0.75275,     0.75375,     0.75475,     0.75576,     0.75676,     0.75776,     0.75876,     0.75976,     0.76076,     0.76176,     0.76276,     0.76376,     0.76476,     0.76577,     0.76677,     0.76777,\n",
       "           0.76877,     0.76977,     0.77077,     0.77177,     0.77277,     0.77377,     0.77477,     0.77578,     0.77678,     0.77778,     0.77878,     0.77978,     0.78078,     0.78178,     0.78278,     0.78378,     0.78478,     0.78579,     0.78679,     0.78779,     0.78879,     0.78979,     0.79079,     0.79179,\n",
       "           0.79279,     0.79379,     0.79479,      0.7958,      0.7968,      0.7978,      0.7988,      0.7998,      0.8008,      0.8018,      0.8028,      0.8038,      0.8048,     0.80581,     0.80681,     0.80781,     0.80881,     0.80981,     0.81081,     0.81181,     0.81281,     0.81381,     0.81481,     0.81582,\n",
       "           0.81682,     0.81782,     0.81882,     0.81982,     0.82082,     0.82182,     0.82282,     0.82382,     0.82482,     0.82583,     0.82683,     0.82783,     0.82883,     0.82983,     0.83083,     0.83183,     0.83283,     0.83383,     0.83483,     0.83584,     0.83684,     0.83784,     0.83884,     0.83984,\n",
       "           0.84084,     0.84184,     0.84284,     0.84384,     0.84484,     0.84585,     0.84685,     0.84785,     0.84885,     0.84985,     0.85085,     0.85185,     0.85285,     0.85385,     0.85485,     0.85586,     0.85686,     0.85786,     0.85886,     0.85986,     0.86086,     0.86186,     0.86286,     0.86386,\n",
       "           0.86486,     0.86587,     0.86687,     0.86787,     0.86887,     0.86987,     0.87087,     0.87187,     0.87287,     0.87387,     0.87487,     0.87588,     0.87688,     0.87788,     0.87888,     0.87988,     0.88088,     0.88188,     0.88288,     0.88388,     0.88488,     0.88589,     0.88689,     0.88789,\n",
       "           0.88889,     0.88989,     0.89089,     0.89189,     0.89289,     0.89389,     0.89489,      0.8959,      0.8969,      0.8979,      0.8989,      0.8999,      0.9009,      0.9019,      0.9029,      0.9039,      0.9049,     0.90591,     0.90691,     0.90791,     0.90891,     0.90991,     0.91091,     0.91191,\n",
       "           0.91291,     0.91391,     0.91491,     0.91592,     0.91692,     0.91792,     0.91892,     0.91992,     0.92092,     0.92192,     0.92292,     0.92392,     0.92492,     0.92593,     0.92693,     0.92793,     0.92893,     0.92993,     0.93093,     0.93193,     0.93293,     0.93393,     0.93493,     0.93594,\n",
       "           0.93694,     0.93794,     0.93894,     0.93994,     0.94094,     0.94194,     0.94294,     0.94394,     0.94494,     0.94595,     0.94695,     0.94795,     0.94895,     0.94995,     0.95095,     0.95195,     0.95295,     0.95395,     0.95495,     0.95596,     0.95696,     0.95796,     0.95896,     0.95996,\n",
       "           0.96096,     0.96196,     0.96296,     0.96396,     0.96496,     0.96597,     0.96697,     0.96797,     0.96897,     0.96997,     0.97097,     0.97197,     0.97297,     0.97397,     0.97497,     0.97598,     0.97698,     0.97798,     0.97898,     0.97998,     0.98098,     0.98198,     0.98298,     0.98398,\n",
       "           0.98498,     0.98599,     0.98699,     0.98799,     0.98899,     0.98999,     0.99099,     0.99199,     0.99299,     0.99399,     0.99499,       0.996,       0.997,       0.998,       0.999,           1]), array([[    0.11048,     0.11048,     0.17834,      0.2474,     0.29421,     0.32887,     0.35884,     0.40037,     0.42818,     0.45139,     0.46909,     0.47885,     0.49263,     0.49849,     0.51221,     0.51987,     0.52892,     0.53276,     0.54215,     0.55743,      0.5668,     0.56972,      0.5729,\n",
       "            0.57718,     0.58372,     0.58625,     0.59571,     0.60339,     0.60522,     0.61405,     0.61777,     0.62871,     0.63364,     0.63458,     0.63552,       0.637,     0.64541,     0.64882,     0.65179,     0.65384,     0.65568,     0.65727,      0.6589,     0.66254,     0.66511,     0.67134,\n",
       "            0.67345,     0.67703,     0.67981,     0.68129,     0.68276,     0.69177,     0.69396,     0.69612,     0.69814,     0.70043,     0.70461,     0.70548,     0.70635,     0.70721,     0.70808,      0.7093,     0.71359,     0.71576,     0.71792,     0.72037,     0.72216,     0.71773,     0.71506,\n",
       "            0.71844,     0.72146,      0.7195,     0.71762,     0.72092,     0.72463,     0.72785,     0.73224,     0.73573,     0.73747,      0.7392,     0.74077,     0.74228,     0.74379,      0.7453,     0.74683,     0.74836,     0.74988,     0.74947,      0.7489,     0.74832,     0.74775,     0.74717,\n",
       "             0.7466,     0.74602,     0.74545,     0.74487,      0.7443,     0.74372,     0.74315,     0.74257,     0.74199,     0.74142,     0.74322,      0.7459,     0.74691,     0.74745,     0.74799,     0.74854,     0.74908,     0.74962,     0.75016,      0.7507,     0.75124,     0.75178,     0.75233,\n",
       "            0.75288,     0.75344,     0.75399,     0.75454,     0.75509,     0.75564,     0.75618,     0.75673,     0.75772,     0.76006,     0.76238,     0.76334,     0.76417,       0.765,     0.76583,     0.76665,     0.76748,     0.76825,     0.76886,     0.76946,     0.77007,     0.77067,     0.77127,\n",
       "            0.77188,     0.77248,     0.77308,     0.77368,     0.77774,     0.78316,     0.78582,     0.78676,      0.7877,     0.78864,     0.78958,     0.79052,     0.79129,     0.79184,     0.79239,     0.79295,      0.7935,     0.79405,      0.7946,     0.79515,      0.7957,     0.79624,     0.79679,\n",
       "            0.79769,      0.7988,      0.7999,       0.801,      0.8021,     0.80315,     0.80394,     0.80473,     0.80552,      0.8063,     0.80709,     0.80787,     0.80866,     0.80942,     0.81015,     0.81088,     0.81161,     0.81234,     0.81307,     0.81379,     0.81452,     0.81524,     0.81565,\n",
       "            0.81599,     0.81632,     0.81666,     0.81699,     0.81733,     0.81766,       0.818,     0.81833,     0.81867,       0.819,     0.81933,     0.81967,        0.82,     0.82033,     0.82067,       0.821,     0.82133,     0.82166,     0.83092,     0.83478,     0.83492,     0.83506,     0.83521,\n",
       "            0.83535,      0.8355,     0.83564,     0.83579,     0.83593,     0.83607,     0.83622,     0.83636,     0.83651,     0.83665,     0.83679,     0.83694,     0.83708,     0.83723,     0.83737,     0.83751,     0.83766,      0.8378,     0.83794,     0.83809,     0.83823,     0.83838,     0.83852,\n",
       "            0.83866,     0.83881,     0.83895,     0.83909,     0.83924,     0.83938,     0.83952,     0.83966,     0.83981,     0.83995,     0.84009,     0.84024,     0.84038,     0.84052,     0.84067,     0.84081,     0.84095,     0.84109,     0.84124,     0.84147,     0.84172,     0.84198,     0.84223,\n",
       "            0.84249,     0.84274,     0.84299,     0.84325,      0.8435,     0.84376,     0.84401,     0.84426,     0.84452,     0.84477,     0.84503,     0.84528,     0.84553,     0.84578,     0.84604,     0.84629,     0.84654,      0.8468,     0.84705,      0.8473,     0.84755,      0.8478,     0.84847,\n",
       "            0.85058,     0.85268,     0.85477,     0.85676,     0.85874,     0.86071,     0.86082,     0.85865,     0.85648,     0.85431,     0.85223,     0.85073,     0.84923,     0.84773,     0.84622,     0.84471,      0.8432,     0.84097,      0.8386,     0.83623,     0.83385,     0.83316,     0.83295,\n",
       "            0.83273,     0.83251,      0.8323,     0.83208,     0.83186,     0.83165,     0.83143,     0.83121,     0.83099,     0.83078,     0.83056,     0.83034,     0.83013,     0.82991,     0.82969,     0.82947,     0.82926,     0.82904,     0.82882,      0.8286,     0.82839,     0.82817,     0.82795,\n",
       "            0.82773,     0.82751,      0.8273,     0.82708,     0.82686,     0.82664,     0.82642,      0.8262,     0.82599,     0.82577,     0.82555,     0.82533,     0.82511,     0.82489,     0.82467,     0.82446,     0.82424,     0.82402,      0.8238,     0.82358,     0.81813,     0.81351,     0.81336,\n",
       "            0.81321,     0.81306,     0.81291,     0.81276,     0.81261,     0.81246,     0.81231,     0.81216,     0.81202,     0.81187,     0.81172,     0.81157,     0.81142,     0.81127,     0.81112,     0.81097,     0.81082,     0.81067,     0.81052,     0.81037,     0.81022,     0.81007,     0.80992,\n",
       "            0.80977,     0.80962,     0.80947,     0.80932,     0.80917,     0.80902,     0.80887,     0.80873,     0.80858,     0.80843,     0.80828,     0.80813,     0.80798,     0.80783,     0.80768,     0.80753,     0.80738,     0.80723,     0.80708,     0.80693,     0.80678,     0.80663,     0.80648,\n",
       "            0.80632,     0.80617,     0.80602,     0.80587,     0.80572,     0.80557,     0.80542,     0.80527,     0.80512,     0.80497,     0.80482,     0.80467,     0.80452,     0.80437,     0.80422,     0.80407,     0.80392,     0.80377,     0.80362,     0.80347,     0.80314,     0.80272,     0.80231,\n",
       "             0.8019,     0.80149,     0.80107,     0.80066,     0.80025,     0.79983,     0.79942,     0.79901,     0.79859,     0.79818,     0.79776,     0.79735,     0.79693,     0.79652,      0.7961,     0.79569,     0.79527,     0.79486,     0.79444,     0.79402,     0.79361,     0.79319,     0.79328,\n",
       "            0.79351,     0.79374,     0.79396,     0.79419,     0.79442,     0.79464,     0.79487,      0.7951,     0.79532,     0.79555,     0.79577,       0.796,     0.79623,     0.79645,     0.79668,      0.7969,     0.79713,     0.79735,     0.79758,      0.7978,     0.79803,     0.79825,     0.79847,\n",
       "             0.7987,     0.79892,     0.79915,     0.79937,     0.79959,     0.79982,     0.80017,     0.80109,     0.80202,     0.80294,     0.80386,     0.80477,     0.80569,      0.8066,     0.80714,     0.80738,     0.80761,     0.80784,     0.80807,      0.8083,     0.80853,     0.80877,       0.809,\n",
       "            0.80923,     0.80946,     0.80969,     0.80992,     0.81015,     0.81038,     0.81061,     0.81084,     0.81107,      0.8113,     0.81153,     0.81176,     0.81199,     0.81222,     0.81245,     0.81268,     0.81291,     0.81314,     0.81336,     0.81359,     0.81382,     0.81405,     0.81521,\n",
       "            0.81723,     0.81924,     0.82124,     0.82067,     0.81984,       0.819,     0.81817,     0.81733,     0.81649,     0.81565,     0.81481,     0.81397,     0.81312,     0.81228,     0.81144,     0.81161,     0.81467,      0.8177,     0.81832,     0.81848,     0.81865,     0.81881,     0.81898,\n",
       "            0.81914,      0.8193,     0.81947,     0.81963,      0.8198,     0.81996,     0.82012,     0.82029,     0.82045,     0.82061,     0.82078,     0.82094,      0.8211,     0.82127,     0.82143,     0.82159,     0.82175,     0.82192,     0.82208,     0.82224,      0.8224,     0.82257,     0.82273,\n",
       "            0.82289,     0.82305,     0.82322,     0.82338,     0.82354,      0.8237,     0.82386,     0.82403,     0.82419,     0.82435,     0.82451,     0.82467,     0.82483,     0.82499,     0.82516,     0.82532,     0.82548,     0.82564,      0.8261,      0.8267,      0.8273,     0.82789,     0.82848,\n",
       "            0.82908,     0.82967,     0.83026,     0.83085,     0.83144,     0.83202,     0.83261,      0.8332,     0.83341,     0.83352,     0.83362,     0.83372,     0.83383,     0.83393,     0.83403,     0.83414,     0.83424,     0.83435,     0.83445,     0.83455,     0.83466,     0.83476,     0.83486,\n",
       "            0.83497,     0.83507,     0.83517,     0.83528,     0.83538,     0.83548,     0.83559,     0.83569,     0.83579,     0.83589,       0.836,      0.8361,      0.8362,     0.83631,     0.83641,     0.83651,     0.83662,     0.83672,     0.83682,     0.83692,     0.83703,     0.83713,     0.83723,\n",
       "            0.83733,     0.83744,     0.83754,     0.83764,     0.83774,     0.83785,     0.83795,     0.83805,     0.83815,     0.83826,     0.83836,     0.83846,     0.83856,     0.83867,     0.83877,     0.83887,     0.83897,     0.83907,     0.83918,     0.83928,     0.83938,     0.83948,     0.83958,\n",
       "            0.83969,     0.83979,     0.83989,     0.83999,     0.84009,      0.8402,      0.8403,      0.8404,      0.8405,      0.8406,      0.8407,     0.84081,     0.84091,     0.84101,     0.84111,     0.83751,     0.83347,     0.83047,     0.83192,     0.83337,     0.83481,     0.83624,     0.83767,\n",
       "            0.83829,     0.83856,     0.83883,      0.8391,     0.83937,     0.83963,      0.8399,     0.84017,     0.84044,     0.84071,     0.84098,     0.84125,     0.84151,     0.84178,     0.84205,     0.84232,     0.84258,     0.84285,     0.84312,     0.84338,     0.84365,     0.84392,     0.84418,\n",
       "            0.84445,     0.84471,     0.84498,     0.84524,     0.84551,     0.84577,     0.84604,     0.84564,     0.84473,     0.84381,      0.8429,     0.84198,     0.84106,     0.84014,     0.83922,      0.8383,     0.83737,     0.83645,     0.83552,     0.83448,     0.83324,       0.832,     0.83076,\n",
       "            0.82951,     0.82827,     0.82702,     0.82576,     0.82451,     0.82364,     0.82416,     0.82467,     0.82518,     0.82569,      0.8262,     0.82671,     0.82722,     0.82773,     0.82823,     0.82874,     0.82925,     0.82975,     0.83025,     0.83076,     0.83126,     0.83166,     0.83148,\n",
       "             0.8313,     0.83112,     0.83095,     0.83077,     0.83059,     0.83042,     0.83024,     0.83006,     0.82988,     0.82971,     0.82953,     0.82935,     0.82917,     0.82899,     0.82882,     0.82864,     0.82846,     0.82828,      0.8281,     0.82793,     0.82775,     0.82757,     0.82739,\n",
       "            0.82721,     0.82704,     0.82686,     0.82668,      0.8265,     0.82632,     0.82614,     0.82596,     0.82579,     0.82561,     0.82543,     0.82525,     0.82507,     0.82489,     0.82471,     0.82453,     0.82435,     0.82417,       0.824,     0.82382,     0.82364,     0.82346,     0.82328,\n",
       "             0.8231,     0.82292,     0.82274,     0.82256,     0.82238,      0.8222,     0.82202,     0.82184,     0.82166,     0.82148,      0.8213,     0.82112,     0.82094,     0.82076,     0.82058,      0.8204,     0.82022,     0.82004,     0.81914,     0.81804,     0.81694,     0.81584,     0.81474,\n",
       "            0.81364,     0.81253,     0.81142,     0.81031,      0.8092,     0.80809,     0.80877,     0.80946,     0.81015,     0.81083,     0.81152,      0.8122,     0.81288,     0.81356,     0.81424,     0.81492,     0.81559,     0.81627,     0.80339,     0.80249,     0.80159,     0.80069,     0.79979,\n",
       "            0.79889,     0.79799,     0.79708,     0.79617,     0.79527,     0.79436,     0.79345,     0.79253,      0.7915,     0.78834,     0.78516,     0.78196,     0.77893,     0.77857,      0.7782,     0.77784,     0.77748,     0.77712,     0.77676,      0.7764,     0.77604,     0.77568,     0.77532,\n",
       "            0.77495,     0.77459,     0.77423,     0.77387,      0.7735,     0.77314,     0.77278,     0.77241,     0.77205,     0.77169,     0.77132,     0.77096,     0.77059,     0.77023,     0.76986,      0.7695,     0.76913,     0.76877,      0.7684,     0.76803,     0.76767,      0.7673,     0.76693,\n",
       "            0.76657,      0.7662,     0.76571,     0.76497,     0.76424,     0.76351,     0.76278,     0.76204,      0.7613,     0.76057,     0.75983,     0.75909,     0.75835,     0.75761,     0.75687,     0.75613,     0.75539,     0.75464,      0.7539,     0.75315,     0.75256,      0.7522,     0.75185,\n",
       "             0.7515,     0.75114,     0.75079,     0.75044,     0.75008,     0.74973,     0.74937,     0.74902,     0.74866,     0.74831,     0.74795,      0.7476,     0.74724,     0.74689,     0.74653,     0.74618,     0.74582,     0.74546,     0.74511,     0.74475,     0.74439,     0.74404,     0.74368,\n",
       "            0.74332,     0.74296,      0.7426,     0.74225,     0.74189,     0.74153,     0.74117,     0.74081,     0.74045,     0.74009,     0.73973,     0.73937,     0.73477,     0.72509,     0.72445,     0.72381,     0.72316,     0.72252,     0.72187,     0.72123,     0.72058,     0.71994,     0.71929,\n",
       "            0.71864,     0.71799,     0.71735,      0.7167,     0.71605,     0.71539,     0.71474,     0.71409,     0.71344,     0.71278,     0.71213,     0.71147,     0.70237,     0.68975,     0.67785,      0.6656,     0.66332,     0.66103,     0.65874,     0.65644,     0.65413,     0.65181,     0.64561,\n",
       "            0.63784,     0.63367,     0.63126,     0.62884,      0.6264,     0.62396,     0.62152,     0.61906,     0.58411,      0.5741,     0.56664,     0.56338,     0.56011,     0.55681,     0.55351,     0.55019,     0.52742,     0.49039,     0.47445,     0.46142,     0.40983,     0.40529,     0.40073,\n",
       "            0.39615,     0.39154,     0.36207,     0.34582,     0.28899,     0.27652,     0.25089,     0.21335,     0.15215,    0.055249,           0]]), 'Confidence', 'F1'], [array([          0,    0.001001,    0.002002,    0.003003,    0.004004,    0.005005,    0.006006,    0.007007,    0.008008,    0.009009,     0.01001,    0.011011,    0.012012,    0.013013,    0.014014,    0.015015,    0.016016,    0.017017,    0.018018,    0.019019,     0.02002,    0.021021,    0.022022,    0.023023,\n",
       "          0.024024,    0.025025,    0.026026,    0.027027,    0.028028,    0.029029,     0.03003,    0.031031,    0.032032,    0.033033,    0.034034,    0.035035,    0.036036,    0.037037,    0.038038,    0.039039,     0.04004,    0.041041,    0.042042,    0.043043,    0.044044,    0.045045,    0.046046,    0.047047,\n",
       "          0.048048,    0.049049,     0.05005,    0.051051,    0.052052,    0.053053,    0.054054,    0.055055,    0.056056,    0.057057,    0.058058,    0.059059,     0.06006,    0.061061,    0.062062,    0.063063,    0.064064,    0.065065,    0.066066,    0.067067,    0.068068,    0.069069,     0.07007,    0.071071,\n",
       "          0.072072,    0.073073,    0.074074,    0.075075,    0.076076,    0.077077,    0.078078,    0.079079,     0.08008,    0.081081,    0.082082,    0.083083,    0.084084,    0.085085,    0.086086,    0.087087,    0.088088,    0.089089,     0.09009,    0.091091,    0.092092,    0.093093,    0.094094,    0.095095,\n",
       "          0.096096,    0.097097,    0.098098,    0.099099,      0.1001,      0.1011,      0.1021,      0.1031,      0.1041,     0.10511,     0.10611,     0.10711,     0.10811,     0.10911,     0.11011,     0.11111,     0.11211,     0.11311,     0.11411,     0.11512,     0.11612,     0.11712,     0.11812,     0.11912,\n",
       "           0.12012,     0.12112,     0.12212,     0.12312,     0.12412,     0.12513,     0.12613,     0.12713,     0.12813,     0.12913,     0.13013,     0.13113,     0.13213,     0.13313,     0.13413,     0.13514,     0.13614,     0.13714,     0.13814,     0.13914,     0.14014,     0.14114,     0.14214,     0.14314,\n",
       "           0.14414,     0.14515,     0.14615,     0.14715,     0.14815,     0.14915,     0.15015,     0.15115,     0.15215,     0.15315,     0.15415,     0.15516,     0.15616,     0.15716,     0.15816,     0.15916,     0.16016,     0.16116,     0.16216,     0.16316,     0.16416,     0.16517,     0.16617,     0.16717,\n",
       "           0.16817,     0.16917,     0.17017,     0.17117,     0.17217,     0.17317,     0.17417,     0.17518,     0.17618,     0.17718,     0.17818,     0.17918,     0.18018,     0.18118,     0.18218,     0.18318,     0.18418,     0.18519,     0.18619,     0.18719,     0.18819,     0.18919,     0.19019,     0.19119,\n",
       "           0.19219,     0.19319,     0.19419,      0.1952,      0.1962,      0.1972,      0.1982,      0.1992,      0.2002,      0.2012,      0.2022,      0.2032,      0.2042,     0.20521,     0.20621,     0.20721,     0.20821,     0.20921,     0.21021,     0.21121,     0.21221,     0.21321,     0.21421,     0.21522,\n",
       "           0.21622,     0.21722,     0.21822,     0.21922,     0.22022,     0.22122,     0.22222,     0.22322,     0.22422,     0.22523,     0.22623,     0.22723,     0.22823,     0.22923,     0.23023,     0.23123,     0.23223,     0.23323,     0.23423,     0.23524,     0.23624,     0.23724,     0.23824,     0.23924,\n",
       "           0.24024,     0.24124,     0.24224,     0.24324,     0.24424,     0.24525,     0.24625,     0.24725,     0.24825,     0.24925,     0.25025,     0.25125,     0.25225,     0.25325,     0.25425,     0.25526,     0.25626,     0.25726,     0.25826,     0.25926,     0.26026,     0.26126,     0.26226,     0.26326,\n",
       "           0.26426,     0.26527,     0.26627,     0.26727,     0.26827,     0.26927,     0.27027,     0.27127,     0.27227,     0.27327,     0.27427,     0.27528,     0.27628,     0.27728,     0.27828,     0.27928,     0.28028,     0.28128,     0.28228,     0.28328,     0.28428,     0.28529,     0.28629,     0.28729,\n",
       "           0.28829,     0.28929,     0.29029,     0.29129,     0.29229,     0.29329,     0.29429,      0.2953,      0.2963,      0.2973,      0.2983,      0.2993,      0.3003,      0.3013,      0.3023,      0.3033,      0.3043,     0.30531,     0.30631,     0.30731,     0.30831,     0.30931,     0.31031,     0.31131,\n",
       "           0.31231,     0.31331,     0.31431,     0.31532,     0.31632,     0.31732,     0.31832,     0.31932,     0.32032,     0.32132,     0.32232,     0.32332,     0.32432,     0.32533,     0.32633,     0.32733,     0.32833,     0.32933,     0.33033,     0.33133,     0.33233,     0.33333,     0.33433,     0.33534,\n",
       "           0.33634,     0.33734,     0.33834,     0.33934,     0.34034,     0.34134,     0.34234,     0.34334,     0.34434,     0.34535,     0.34635,     0.34735,     0.34835,     0.34935,     0.35035,     0.35135,     0.35235,     0.35335,     0.35435,     0.35536,     0.35636,     0.35736,     0.35836,     0.35936,\n",
       "           0.36036,     0.36136,     0.36236,     0.36336,     0.36436,     0.36537,     0.36637,     0.36737,     0.36837,     0.36937,     0.37037,     0.37137,     0.37237,     0.37337,     0.37437,     0.37538,     0.37638,     0.37738,     0.37838,     0.37938,     0.38038,     0.38138,     0.38238,     0.38338,\n",
       "           0.38438,     0.38539,     0.38639,     0.38739,     0.38839,     0.38939,     0.39039,     0.39139,     0.39239,     0.39339,     0.39439,      0.3954,      0.3964,      0.3974,      0.3984,      0.3994,      0.4004,      0.4014,      0.4024,      0.4034,      0.4044,     0.40541,     0.40641,     0.40741,\n",
       "           0.40841,     0.40941,     0.41041,     0.41141,     0.41241,     0.41341,     0.41441,     0.41542,     0.41642,     0.41742,     0.41842,     0.41942,     0.42042,     0.42142,     0.42242,     0.42342,     0.42442,     0.42543,     0.42643,     0.42743,     0.42843,     0.42943,     0.43043,     0.43143,\n",
       "           0.43243,     0.43343,     0.43443,     0.43544,     0.43644,     0.43744,     0.43844,     0.43944,     0.44044,     0.44144,     0.44244,     0.44344,     0.44444,     0.44545,     0.44645,     0.44745,     0.44845,     0.44945,     0.45045,     0.45145,     0.45245,     0.45345,     0.45445,     0.45546,\n",
       "           0.45646,     0.45746,     0.45846,     0.45946,     0.46046,     0.46146,     0.46246,     0.46346,     0.46446,     0.46547,     0.46647,     0.46747,     0.46847,     0.46947,     0.47047,     0.47147,     0.47247,     0.47347,     0.47447,     0.47548,     0.47648,     0.47748,     0.47848,     0.47948,\n",
       "           0.48048,     0.48148,     0.48248,     0.48348,     0.48448,     0.48549,     0.48649,     0.48749,     0.48849,     0.48949,     0.49049,     0.49149,     0.49249,     0.49349,     0.49449,      0.4955,      0.4965,      0.4975,      0.4985,      0.4995,      0.5005,      0.5015,      0.5025,      0.5035,\n",
       "            0.5045,     0.50551,     0.50651,     0.50751,     0.50851,     0.50951,     0.51051,     0.51151,     0.51251,     0.51351,     0.51451,     0.51552,     0.51652,     0.51752,     0.51852,     0.51952,     0.52052,     0.52152,     0.52252,     0.52352,     0.52452,     0.52553,     0.52653,     0.52753,\n",
       "           0.52853,     0.52953,     0.53053,     0.53153,     0.53253,     0.53353,     0.53453,     0.53554,     0.53654,     0.53754,     0.53854,     0.53954,     0.54054,     0.54154,     0.54254,     0.54354,     0.54454,     0.54555,     0.54655,     0.54755,     0.54855,     0.54955,     0.55055,     0.55155,\n",
       "           0.55255,     0.55355,     0.55455,     0.55556,     0.55656,     0.55756,     0.55856,     0.55956,     0.56056,     0.56156,     0.56256,     0.56356,     0.56456,     0.56557,     0.56657,     0.56757,     0.56857,     0.56957,     0.57057,     0.57157,     0.57257,     0.57357,     0.57457,     0.57558,\n",
       "           0.57658,     0.57758,     0.57858,     0.57958,     0.58058,     0.58158,     0.58258,     0.58358,     0.58458,     0.58559,     0.58659,     0.58759,     0.58859,     0.58959,     0.59059,     0.59159,     0.59259,     0.59359,     0.59459,      0.5956,      0.5966,      0.5976,      0.5986,      0.5996,\n",
       "            0.6006,      0.6016,      0.6026,      0.6036,      0.6046,     0.60561,     0.60661,     0.60761,     0.60861,     0.60961,     0.61061,     0.61161,     0.61261,     0.61361,     0.61461,     0.61562,     0.61662,     0.61762,     0.61862,     0.61962,     0.62062,     0.62162,     0.62262,     0.62362,\n",
       "           0.62462,     0.62563,     0.62663,     0.62763,     0.62863,     0.62963,     0.63063,     0.63163,     0.63263,     0.63363,     0.63463,     0.63564,     0.63664,     0.63764,     0.63864,     0.63964,     0.64064,     0.64164,     0.64264,     0.64364,     0.64464,     0.64565,     0.64665,     0.64765,\n",
       "           0.64865,     0.64965,     0.65065,     0.65165,     0.65265,     0.65365,     0.65465,     0.65566,     0.65666,     0.65766,     0.65866,     0.65966,     0.66066,     0.66166,     0.66266,     0.66366,     0.66466,     0.66567,     0.66667,     0.66767,     0.66867,     0.66967,     0.67067,     0.67167,\n",
       "           0.67267,     0.67367,     0.67467,     0.67568,     0.67668,     0.67768,     0.67868,     0.67968,     0.68068,     0.68168,     0.68268,     0.68368,     0.68468,     0.68569,     0.68669,     0.68769,     0.68869,     0.68969,     0.69069,     0.69169,     0.69269,     0.69369,     0.69469,      0.6957,\n",
       "            0.6967,      0.6977,      0.6987,      0.6997,      0.7007,      0.7017,      0.7027,      0.7037,      0.7047,     0.70571,     0.70671,     0.70771,     0.70871,     0.70971,     0.71071,     0.71171,     0.71271,     0.71371,     0.71471,     0.71572,     0.71672,     0.71772,     0.71872,     0.71972,\n",
       "           0.72072,     0.72172,     0.72272,     0.72372,     0.72472,     0.72573,     0.72673,     0.72773,     0.72873,     0.72973,     0.73073,     0.73173,     0.73273,     0.73373,     0.73473,     0.73574,     0.73674,     0.73774,     0.73874,     0.73974,     0.74074,     0.74174,     0.74274,     0.74374,\n",
       "           0.74474,     0.74575,     0.74675,     0.74775,     0.74875,     0.74975,     0.75075,     0.75175,     0.75275,     0.75375,     0.75475,     0.75576,     0.75676,     0.75776,     0.75876,     0.75976,     0.76076,     0.76176,     0.76276,     0.76376,     0.76476,     0.76577,     0.76677,     0.76777,\n",
       "           0.76877,     0.76977,     0.77077,     0.77177,     0.77277,     0.77377,     0.77477,     0.77578,     0.77678,     0.77778,     0.77878,     0.77978,     0.78078,     0.78178,     0.78278,     0.78378,     0.78478,     0.78579,     0.78679,     0.78779,     0.78879,     0.78979,     0.79079,     0.79179,\n",
       "           0.79279,     0.79379,     0.79479,      0.7958,      0.7968,      0.7978,      0.7988,      0.7998,      0.8008,      0.8018,      0.8028,      0.8038,      0.8048,     0.80581,     0.80681,     0.80781,     0.80881,     0.80981,     0.81081,     0.81181,     0.81281,     0.81381,     0.81481,     0.81582,\n",
       "           0.81682,     0.81782,     0.81882,     0.81982,     0.82082,     0.82182,     0.82282,     0.82382,     0.82482,     0.82583,     0.82683,     0.82783,     0.82883,     0.82983,     0.83083,     0.83183,     0.83283,     0.83383,     0.83483,     0.83584,     0.83684,     0.83784,     0.83884,     0.83984,\n",
       "           0.84084,     0.84184,     0.84284,     0.84384,     0.84484,     0.84585,     0.84685,     0.84785,     0.84885,     0.84985,     0.85085,     0.85185,     0.85285,     0.85385,     0.85485,     0.85586,     0.85686,     0.85786,     0.85886,     0.85986,     0.86086,     0.86186,     0.86286,     0.86386,\n",
       "           0.86486,     0.86587,     0.86687,     0.86787,     0.86887,     0.86987,     0.87087,     0.87187,     0.87287,     0.87387,     0.87487,     0.87588,     0.87688,     0.87788,     0.87888,     0.87988,     0.88088,     0.88188,     0.88288,     0.88388,     0.88488,     0.88589,     0.88689,     0.88789,\n",
       "           0.88889,     0.88989,     0.89089,     0.89189,     0.89289,     0.89389,     0.89489,      0.8959,      0.8969,      0.8979,      0.8989,      0.8999,      0.9009,      0.9019,      0.9029,      0.9039,      0.9049,     0.90591,     0.90691,     0.90791,     0.90891,     0.90991,     0.91091,     0.91191,\n",
       "           0.91291,     0.91391,     0.91491,     0.91592,     0.91692,     0.91792,     0.91892,     0.91992,     0.92092,     0.92192,     0.92292,     0.92392,     0.92492,     0.92593,     0.92693,     0.92793,     0.92893,     0.92993,     0.93093,     0.93193,     0.93293,     0.93393,     0.93493,     0.93594,\n",
       "           0.93694,     0.93794,     0.93894,     0.93994,     0.94094,     0.94194,     0.94294,     0.94394,     0.94494,     0.94595,     0.94695,     0.94795,     0.94895,     0.94995,     0.95095,     0.95195,     0.95295,     0.95395,     0.95495,     0.95596,     0.95696,     0.95796,     0.95896,     0.95996,\n",
       "           0.96096,     0.96196,     0.96296,     0.96396,     0.96496,     0.96597,     0.96697,     0.96797,     0.96897,     0.96997,     0.97097,     0.97197,     0.97297,     0.97397,     0.97497,     0.97598,     0.97698,     0.97798,     0.97898,     0.97998,     0.98098,     0.98198,     0.98298,     0.98398,\n",
       "           0.98498,     0.98599,     0.98699,     0.98799,     0.98899,     0.98999,     0.99099,     0.99199,     0.99299,     0.99399,     0.99499,       0.996,       0.997,       0.998,       0.999,           1]), array([[   0.058468,    0.058468,    0.097902,     0.14116,     0.17248,     0.19679,     0.21865,     0.25029,     0.27372,     0.29298,     0.30807,     0.31654,     0.33068,     0.33598,     0.34856,     0.35569,     0.36422,     0.36787,     0.37689,     0.39183,     0.40115,     0.40408,     0.40729,\n",
       "            0.41163,     0.41831,     0.42092,     0.43073,     0.43881,     0.44075,     0.45018,     0.45419,     0.46611,     0.47156,     0.47259,     0.47363,     0.47529,     0.48471,     0.48856,     0.49194,     0.49428,     0.49639,     0.49821,     0.50009,      0.5043,     0.50727,     0.51456,\n",
       "            0.51705,     0.52128,     0.52458,     0.52635,     0.52811,     0.53896,     0.54163,     0.54426,     0.54674,     0.54954,     0.55471,     0.55579,     0.55687,     0.55795,     0.55902,     0.56054,     0.56593,     0.56866,     0.57139,      0.5745,      0.5771,     0.57474,     0.57391,\n",
       "            0.57828,     0.58221,      0.5829,      0.5838,     0.58819,     0.59314,     0.59746,      0.6034,     0.60816,     0.61053,     0.61291,     0.61508,     0.61717,     0.61925,     0.62135,     0.62348,     0.62561,     0.62773,     0.62764,     0.62735,     0.62707,     0.62678,     0.62649,\n",
       "             0.6262,     0.62591,     0.62562,     0.62534,     0.62505,     0.62476,     0.62447,     0.62418,      0.6239,     0.62361,     0.62631,     0.63013,     0.63156,     0.63234,     0.63312,      0.6339,     0.63467,     0.63545,     0.63623,     0.63701,     0.63779,     0.63857,     0.63936,\n",
       "            0.64016,     0.64096,     0.64175,     0.64255,     0.64335,     0.64415,     0.64494,     0.64574,     0.64719,      0.6506,     0.65401,     0.65543,     0.65666,     0.65788,      0.6591,     0.66033,     0.66155,      0.6627,      0.6636,     0.66451,     0.66541,     0.66631,     0.66721,\n",
       "            0.66812,     0.66902,     0.66992,     0.67082,     0.67695,      0.6852,     0.68928,     0.69074,     0.69219,     0.69365,      0.6951,     0.69655,     0.69775,     0.69861,     0.69947,     0.70033,     0.70119,     0.70205,     0.70291,     0.70377,     0.70463,     0.70549,     0.70635,\n",
       "            0.70777,     0.70951,     0.71125,     0.71299,     0.71473,      0.7164,     0.71766,     0.71892,     0.72018,     0.72144,      0.7227,     0.72396,     0.72522,     0.72645,     0.72762,      0.7288,     0.72998,     0.73116,     0.73234,     0.73352,      0.7347,     0.73588,     0.73655,\n",
       "             0.7371,     0.73764,     0.73819,     0.73874,     0.73929,     0.73984,     0.74038,     0.74093,     0.74148,     0.74203,     0.74257,     0.74312,     0.74367,     0.74422,     0.74477,     0.74531,     0.74586,     0.74641,     0.76182,     0.76834,     0.76858,     0.76883,     0.76907,\n",
       "            0.76931,     0.76956,      0.7698,     0.77005,     0.77029,     0.77054,     0.77078,     0.77103,     0.77127,     0.77152,     0.77176,     0.77201,     0.77225,      0.7725,     0.77274,     0.77299,     0.77323,     0.77348,     0.77372,     0.77397,     0.77421,     0.77446,      0.7747,\n",
       "            0.77495,     0.77519,     0.77544,     0.77568,     0.77593,     0.77617,     0.77642,     0.77666,     0.77691,     0.77715,      0.7774,     0.77764,     0.77789,     0.77813,     0.77838,     0.77862,     0.77886,     0.77911,     0.77935,     0.77975,     0.78019,     0.78062,     0.78106,\n",
       "             0.7815,     0.78194,     0.78238,     0.78282,     0.78325,     0.78369,     0.78413,     0.78457,     0.78501,     0.78544,     0.78588,     0.78632,     0.78676,      0.7872,     0.78764,     0.78807,     0.78851,     0.78895,     0.78939,     0.78983,     0.79027,      0.7907,     0.79186,\n",
       "            0.79554,     0.79923,     0.80291,     0.80643,     0.80994,     0.81345,     0.81508,     0.81441,     0.81374,     0.81307,     0.81243,     0.81196,     0.81148,     0.81101,     0.81054,     0.81007,     0.80959,     0.80888,     0.80813,     0.80737,     0.80662,      0.8064,     0.80633,\n",
       "            0.80626,     0.80618,     0.80611,     0.80604,     0.80597,      0.8059,     0.80583,     0.80576,     0.80569,     0.80562,     0.80555,     0.80548,     0.80541,     0.80534,     0.80527,      0.8052,     0.80513,     0.80506,     0.80499,     0.80492,     0.80485,     0.80478,      0.8047,\n",
       "            0.80463,     0.80456,     0.80449,     0.80442,     0.80435,     0.80428,     0.80421,     0.80414,     0.80407,       0.804,     0.80393,     0.80386,     0.80379,     0.80372,     0.80365,     0.80358,     0.80351,     0.80344,     0.80337,      0.8033,      0.8015,     0.79998,     0.79993,\n",
       "            0.79988,     0.79983,     0.79978,     0.79973,     0.79968,     0.79963,     0.79958,     0.79953,     0.79948,     0.79943,     0.79938,     0.79933,     0.79928,     0.79923,     0.79918,     0.79913,     0.79908,     0.79903,     0.79898,     0.79893,     0.79888,     0.79883,     0.79878,\n",
       "            0.79873,     0.79868,     0.79863,     0.79858,     0.79853,     0.79848,     0.79843,     0.79838,     0.79833,     0.79828,     0.79823,     0.79818,     0.79813,     0.79808,     0.79803,     0.79798,     0.79793,     0.79788,     0.79783,     0.79778,     0.79773,     0.79768,     0.79763,\n",
       "            0.79758,     0.79753,     0.79748,     0.79743,     0.79738,     0.79733,     0.79728,     0.79723,     0.79718,     0.79713,     0.79708,     0.79703,     0.79698,     0.79693,     0.79688,     0.79683,     0.79678,     0.79673,     0.79668,     0.79663,     0.79651,     0.79637,     0.79623,\n",
       "            0.79609,     0.79595,     0.79581,     0.79567,     0.79553,     0.79539,     0.79525,      0.7951,     0.79496,     0.79482,     0.79468,     0.79454,      0.7944,     0.79426,     0.79412,     0.79398,     0.79384,      0.7937,     0.79356,     0.79341,     0.79327,     0.79313,     0.79346,\n",
       "            0.79392,     0.79437,     0.79483,     0.79528,     0.79574,     0.79619,     0.79665,      0.7971,     0.79755,     0.79801,     0.79846,     0.79892,     0.79937,     0.79983,     0.80028,     0.80074,     0.80119,     0.80165,      0.8021,     0.80255,     0.80301,     0.80346,     0.80392,\n",
       "            0.80437,     0.80483,     0.80528,     0.80574,     0.80619,     0.80665,     0.80736,     0.80925,     0.81113,     0.81302,     0.81491,     0.81679,     0.81868,     0.82056,     0.82169,     0.82217,     0.82265,     0.82313,     0.82361,      0.8241,     0.82458,     0.82506,     0.82554,\n",
       "            0.82602,      0.8265,     0.82698,     0.82747,     0.82795,     0.82843,     0.82891,     0.82939,     0.82987,     0.83035,     0.83084,     0.83132,      0.8318,     0.83228,     0.83276,     0.83324,     0.83372,     0.83421,     0.83469,     0.83517,     0.83565,     0.83613,     0.83858,\n",
       "            0.84287,     0.84715,     0.85144,     0.85165,     0.85143,     0.85121,     0.85099,     0.85077,     0.85055,     0.85033,      0.8501,     0.84988,     0.84966,     0.84944,     0.84922,     0.85081,     0.85756,     0.86431,     0.86569,     0.86606,     0.86643,      0.8668,     0.86716,\n",
       "            0.86753,      0.8679,     0.86827,     0.86864,       0.869,     0.86937,     0.86974,     0.87011,     0.87047,     0.87084,     0.87121,     0.87158,     0.87194,     0.87231,     0.87268,     0.87305,     0.87342,     0.87378,     0.87415,     0.87452,     0.87489,     0.87525,     0.87562,\n",
       "            0.87599,     0.87636,     0.87673,     0.87709,     0.87746,     0.87783,      0.8782,     0.87856,     0.87893,      0.8793,     0.87967,     0.88004,      0.8804,     0.88077,     0.88114,     0.88151,     0.88187,     0.88224,      0.8833,     0.88467,     0.88603,      0.8874,     0.88876,\n",
       "            0.89013,     0.89149,     0.89286,     0.89422,     0.89559,     0.89695,     0.89832,     0.89968,     0.90019,     0.90043,     0.90067,     0.90091,     0.90115,      0.9014,     0.90164,     0.90188,     0.90212,     0.90236,     0.90261,     0.90285,     0.90309,     0.90333,     0.90358,\n",
       "            0.90382,     0.90406,      0.9043,     0.90454,     0.90479,     0.90503,     0.90527,     0.90551,     0.90575,       0.906,     0.90624,     0.90648,     0.90672,     0.90696,     0.90721,     0.90745,     0.90769,     0.90793,     0.90817,     0.90842,     0.90866,      0.9089,     0.90914,\n",
       "            0.90939,     0.90963,     0.90987,     0.91011,     0.91035,      0.9106,     0.91084,     0.91108,     0.91132,     0.91156,     0.91181,     0.91205,     0.91229,     0.91253,     0.91277,     0.91302,     0.91326,      0.9135,     0.91374,     0.91399,     0.91423,     0.91447,     0.91471,\n",
       "            0.91495,      0.9152,     0.91544,     0.91568,     0.91592,     0.91616,     0.91641,     0.91665,     0.91689,     0.91713,     0.91737,     0.91762,     0.91786,      0.9181,     0.91834,      0.9178,     0.91717,     0.91735,      0.9209,     0.92446,     0.92801,     0.93156,     0.93512,\n",
       "            0.93665,     0.93732,       0.938,     0.93867,     0.93935,     0.94002,      0.9407,     0.94137,     0.94205,     0.94272,      0.9434,     0.94407,     0.94475,     0.94542,      0.9461,     0.94677,     0.94745,     0.94812,      0.9488,     0.94947,     0.95015,     0.95082,      0.9515,\n",
       "            0.95217,     0.95285,     0.95352,      0.9542,     0.95487,     0.95555,     0.95622,     0.95648,      0.9564,     0.95632,     0.95624,     0.95616,     0.95608,       0.956,     0.95592,     0.95584,     0.95576,     0.95568,      0.9556,     0.95551,      0.9554,     0.95529,     0.95518,\n",
       "            0.95507,     0.95496,     0.95485,     0.95474,     0.95463,     0.95485,     0.95623,     0.95761,     0.95899,     0.96038,     0.96176,     0.96314,     0.96452,      0.9659,     0.96729,     0.96867,     0.97005,     0.97143,     0.97281,     0.97419,     0.97558,     0.97674,     0.97673,\n",
       "            0.97673,     0.97672,     0.97671,      0.9767,     0.97669,     0.97668,     0.97668,     0.97667,     0.97666,     0.97665,     0.97664,     0.97663,     0.97662,     0.97662,     0.97661,      0.9766,     0.97659,     0.97658,     0.97657,     0.97656,     0.97656,     0.97655,     0.97654,\n",
       "            0.97653,     0.97652,     0.97651,     0.97651,      0.9765,     0.97649,     0.97648,     0.97647,     0.97646,     0.97645,     0.97645,     0.97644,     0.97643,     0.97642,     0.97641,      0.9764,      0.9764,     0.97639,     0.97638,     0.97637,     0.97636,     0.97635,     0.97634,\n",
       "            0.97634,     0.97633,     0.97632,     0.97631,      0.9763,     0.97629,     0.97629,     0.97628,     0.97627,     0.97626,     0.97625,     0.97624,     0.97623,     0.97623,     0.97622,     0.97621,      0.9762,     0.97619,     0.97615,     0.97609,     0.97604,     0.97599,     0.97593,\n",
       "            0.97588,     0.97583,     0.97577,     0.97572,     0.97566,     0.97561,     0.97762,     0.97964,     0.98166,     0.98367,     0.98569,     0.98771,     0.98973,     0.99175,     0.99377,     0.99579,      0.9978,     0.99982,           1,           1,           1,           1,           1,\n",
       "                  1,           1,           1,           1,           1,           1,           1,           1,           1,           1,           1,           1,           1,           1,           1,           1,           1,           1,           1,           1,           1,           1,           1,\n",
       "                  1,           1,           1,           1,           1,           1,           1,           1,           1,           1,           1,           1,           1,           1,           1,           1,           1,           1,           1,           1,           1,           1,           1,\n",
       "                  1,           1,           1,           1,           1,           1,           1,           1,           1,           1,           1,           1,           1,           1,           1,           1,           1,           1,           1,           1,           1,           1,           1,\n",
       "                  1,           1,           1,           1,           1,           1,           1,           1,           1,           1,           1,           1,           1,           1,           1,           1,           1,           1,           1,           1,           1,           1,           1,\n",
       "                  1,           1,           1,           1,           1,           1,           1,           1,           1,           1,           1,           1,           1,           1,           1,           1,           1,           1,           1,           1,           1,           1,           1,\n",
       "                  1,           1,           1,           1,           1,           1,           1,           1,           1,           1,           1,           1,           1,           1,           1,           1,           1,           1,           1,           1,           1,           1,           1,\n",
       "                  1,           1,           1,           1,           1,           1,           1,           1,           1,           1,           1,           1,           1,           1,           1,           1,           1,           1,           1,           1,           1,           1,           1,\n",
       "                  1,           1,           1,           1,           1,           1,           1,           1,           1,           1,           1]]), 'Confidence', 'Precision'], [array([          0,    0.001001,    0.002002,    0.003003,    0.004004,    0.005005,    0.006006,    0.007007,    0.008008,    0.009009,     0.01001,    0.011011,    0.012012,    0.013013,    0.014014,    0.015015,    0.016016,    0.017017,    0.018018,    0.019019,     0.02002,    0.021021,    0.022022,    0.023023,\n",
       "          0.024024,    0.025025,    0.026026,    0.027027,    0.028028,    0.029029,     0.03003,    0.031031,    0.032032,    0.033033,    0.034034,    0.035035,    0.036036,    0.037037,    0.038038,    0.039039,     0.04004,    0.041041,    0.042042,    0.043043,    0.044044,    0.045045,    0.046046,    0.047047,\n",
       "          0.048048,    0.049049,     0.05005,    0.051051,    0.052052,    0.053053,    0.054054,    0.055055,    0.056056,    0.057057,    0.058058,    0.059059,     0.06006,    0.061061,    0.062062,    0.063063,    0.064064,    0.065065,    0.066066,    0.067067,    0.068068,    0.069069,     0.07007,    0.071071,\n",
       "          0.072072,    0.073073,    0.074074,    0.075075,    0.076076,    0.077077,    0.078078,    0.079079,     0.08008,    0.081081,    0.082082,    0.083083,    0.084084,    0.085085,    0.086086,    0.087087,    0.088088,    0.089089,     0.09009,    0.091091,    0.092092,    0.093093,    0.094094,    0.095095,\n",
       "          0.096096,    0.097097,    0.098098,    0.099099,      0.1001,      0.1011,      0.1021,      0.1031,      0.1041,     0.10511,     0.10611,     0.10711,     0.10811,     0.10911,     0.11011,     0.11111,     0.11211,     0.11311,     0.11411,     0.11512,     0.11612,     0.11712,     0.11812,     0.11912,\n",
       "           0.12012,     0.12112,     0.12212,     0.12312,     0.12412,     0.12513,     0.12613,     0.12713,     0.12813,     0.12913,     0.13013,     0.13113,     0.13213,     0.13313,     0.13413,     0.13514,     0.13614,     0.13714,     0.13814,     0.13914,     0.14014,     0.14114,     0.14214,     0.14314,\n",
       "           0.14414,     0.14515,     0.14615,     0.14715,     0.14815,     0.14915,     0.15015,     0.15115,     0.15215,     0.15315,     0.15415,     0.15516,     0.15616,     0.15716,     0.15816,     0.15916,     0.16016,     0.16116,     0.16216,     0.16316,     0.16416,     0.16517,     0.16617,     0.16717,\n",
       "           0.16817,     0.16917,     0.17017,     0.17117,     0.17217,     0.17317,     0.17417,     0.17518,     0.17618,     0.17718,     0.17818,     0.17918,     0.18018,     0.18118,     0.18218,     0.18318,     0.18418,     0.18519,     0.18619,     0.18719,     0.18819,     0.18919,     0.19019,     0.19119,\n",
       "           0.19219,     0.19319,     0.19419,      0.1952,      0.1962,      0.1972,      0.1982,      0.1992,      0.2002,      0.2012,      0.2022,      0.2032,      0.2042,     0.20521,     0.20621,     0.20721,     0.20821,     0.20921,     0.21021,     0.21121,     0.21221,     0.21321,     0.21421,     0.21522,\n",
       "           0.21622,     0.21722,     0.21822,     0.21922,     0.22022,     0.22122,     0.22222,     0.22322,     0.22422,     0.22523,     0.22623,     0.22723,     0.22823,     0.22923,     0.23023,     0.23123,     0.23223,     0.23323,     0.23423,     0.23524,     0.23624,     0.23724,     0.23824,     0.23924,\n",
       "           0.24024,     0.24124,     0.24224,     0.24324,     0.24424,     0.24525,     0.24625,     0.24725,     0.24825,     0.24925,     0.25025,     0.25125,     0.25225,     0.25325,     0.25425,     0.25526,     0.25626,     0.25726,     0.25826,     0.25926,     0.26026,     0.26126,     0.26226,     0.26326,\n",
       "           0.26426,     0.26527,     0.26627,     0.26727,     0.26827,     0.26927,     0.27027,     0.27127,     0.27227,     0.27327,     0.27427,     0.27528,     0.27628,     0.27728,     0.27828,     0.27928,     0.28028,     0.28128,     0.28228,     0.28328,     0.28428,     0.28529,     0.28629,     0.28729,\n",
       "           0.28829,     0.28929,     0.29029,     0.29129,     0.29229,     0.29329,     0.29429,      0.2953,      0.2963,      0.2973,      0.2983,      0.2993,      0.3003,      0.3013,      0.3023,      0.3033,      0.3043,     0.30531,     0.30631,     0.30731,     0.30831,     0.30931,     0.31031,     0.31131,\n",
       "           0.31231,     0.31331,     0.31431,     0.31532,     0.31632,     0.31732,     0.31832,     0.31932,     0.32032,     0.32132,     0.32232,     0.32332,     0.32432,     0.32533,     0.32633,     0.32733,     0.32833,     0.32933,     0.33033,     0.33133,     0.33233,     0.33333,     0.33433,     0.33534,\n",
       "           0.33634,     0.33734,     0.33834,     0.33934,     0.34034,     0.34134,     0.34234,     0.34334,     0.34434,     0.34535,     0.34635,     0.34735,     0.34835,     0.34935,     0.35035,     0.35135,     0.35235,     0.35335,     0.35435,     0.35536,     0.35636,     0.35736,     0.35836,     0.35936,\n",
       "           0.36036,     0.36136,     0.36236,     0.36336,     0.36436,     0.36537,     0.36637,     0.36737,     0.36837,     0.36937,     0.37037,     0.37137,     0.37237,     0.37337,     0.37437,     0.37538,     0.37638,     0.37738,     0.37838,     0.37938,     0.38038,     0.38138,     0.38238,     0.38338,\n",
       "           0.38438,     0.38539,     0.38639,     0.38739,     0.38839,     0.38939,     0.39039,     0.39139,     0.39239,     0.39339,     0.39439,      0.3954,      0.3964,      0.3974,      0.3984,      0.3994,      0.4004,      0.4014,      0.4024,      0.4034,      0.4044,     0.40541,     0.40641,     0.40741,\n",
       "           0.40841,     0.40941,     0.41041,     0.41141,     0.41241,     0.41341,     0.41441,     0.41542,     0.41642,     0.41742,     0.41842,     0.41942,     0.42042,     0.42142,     0.42242,     0.42342,     0.42442,     0.42543,     0.42643,     0.42743,     0.42843,     0.42943,     0.43043,     0.43143,\n",
       "           0.43243,     0.43343,     0.43443,     0.43544,     0.43644,     0.43744,     0.43844,     0.43944,     0.44044,     0.44144,     0.44244,     0.44344,     0.44444,     0.44545,     0.44645,     0.44745,     0.44845,     0.44945,     0.45045,     0.45145,     0.45245,     0.45345,     0.45445,     0.45546,\n",
       "           0.45646,     0.45746,     0.45846,     0.45946,     0.46046,     0.46146,     0.46246,     0.46346,     0.46446,     0.46547,     0.46647,     0.46747,     0.46847,     0.46947,     0.47047,     0.47147,     0.47247,     0.47347,     0.47447,     0.47548,     0.47648,     0.47748,     0.47848,     0.47948,\n",
       "           0.48048,     0.48148,     0.48248,     0.48348,     0.48448,     0.48549,     0.48649,     0.48749,     0.48849,     0.48949,     0.49049,     0.49149,     0.49249,     0.49349,     0.49449,      0.4955,      0.4965,      0.4975,      0.4985,      0.4995,      0.5005,      0.5015,      0.5025,      0.5035,\n",
       "            0.5045,     0.50551,     0.50651,     0.50751,     0.50851,     0.50951,     0.51051,     0.51151,     0.51251,     0.51351,     0.51451,     0.51552,     0.51652,     0.51752,     0.51852,     0.51952,     0.52052,     0.52152,     0.52252,     0.52352,     0.52452,     0.52553,     0.52653,     0.52753,\n",
       "           0.52853,     0.52953,     0.53053,     0.53153,     0.53253,     0.53353,     0.53453,     0.53554,     0.53654,     0.53754,     0.53854,     0.53954,     0.54054,     0.54154,     0.54254,     0.54354,     0.54454,     0.54555,     0.54655,     0.54755,     0.54855,     0.54955,     0.55055,     0.55155,\n",
       "           0.55255,     0.55355,     0.55455,     0.55556,     0.55656,     0.55756,     0.55856,     0.55956,     0.56056,     0.56156,     0.56256,     0.56356,     0.56456,     0.56557,     0.56657,     0.56757,     0.56857,     0.56957,     0.57057,     0.57157,     0.57257,     0.57357,     0.57457,     0.57558,\n",
       "           0.57658,     0.57758,     0.57858,     0.57958,     0.58058,     0.58158,     0.58258,     0.58358,     0.58458,     0.58559,     0.58659,     0.58759,     0.58859,     0.58959,     0.59059,     0.59159,     0.59259,     0.59359,     0.59459,      0.5956,      0.5966,      0.5976,      0.5986,      0.5996,\n",
       "            0.6006,      0.6016,      0.6026,      0.6036,      0.6046,     0.60561,     0.60661,     0.60761,     0.60861,     0.60961,     0.61061,     0.61161,     0.61261,     0.61361,     0.61461,     0.61562,     0.61662,     0.61762,     0.61862,     0.61962,     0.62062,     0.62162,     0.62262,     0.62362,\n",
       "           0.62462,     0.62563,     0.62663,     0.62763,     0.62863,     0.62963,     0.63063,     0.63163,     0.63263,     0.63363,     0.63463,     0.63564,     0.63664,     0.63764,     0.63864,     0.63964,     0.64064,     0.64164,     0.64264,     0.64364,     0.64464,     0.64565,     0.64665,     0.64765,\n",
       "           0.64865,     0.64965,     0.65065,     0.65165,     0.65265,     0.65365,     0.65465,     0.65566,     0.65666,     0.65766,     0.65866,     0.65966,     0.66066,     0.66166,     0.66266,     0.66366,     0.66466,     0.66567,     0.66667,     0.66767,     0.66867,     0.66967,     0.67067,     0.67167,\n",
       "           0.67267,     0.67367,     0.67467,     0.67568,     0.67668,     0.67768,     0.67868,     0.67968,     0.68068,     0.68168,     0.68268,     0.68368,     0.68468,     0.68569,     0.68669,     0.68769,     0.68869,     0.68969,     0.69069,     0.69169,     0.69269,     0.69369,     0.69469,      0.6957,\n",
       "            0.6967,      0.6977,      0.6987,      0.6997,      0.7007,      0.7017,      0.7027,      0.7037,      0.7047,     0.70571,     0.70671,     0.70771,     0.70871,     0.70971,     0.71071,     0.71171,     0.71271,     0.71371,     0.71471,     0.71572,     0.71672,     0.71772,     0.71872,     0.71972,\n",
       "           0.72072,     0.72172,     0.72272,     0.72372,     0.72472,     0.72573,     0.72673,     0.72773,     0.72873,     0.72973,     0.73073,     0.73173,     0.73273,     0.73373,     0.73473,     0.73574,     0.73674,     0.73774,     0.73874,     0.73974,     0.74074,     0.74174,     0.74274,     0.74374,\n",
       "           0.74474,     0.74575,     0.74675,     0.74775,     0.74875,     0.74975,     0.75075,     0.75175,     0.75275,     0.75375,     0.75475,     0.75576,     0.75676,     0.75776,     0.75876,     0.75976,     0.76076,     0.76176,     0.76276,     0.76376,     0.76476,     0.76577,     0.76677,     0.76777,\n",
       "           0.76877,     0.76977,     0.77077,     0.77177,     0.77277,     0.77377,     0.77477,     0.77578,     0.77678,     0.77778,     0.77878,     0.77978,     0.78078,     0.78178,     0.78278,     0.78378,     0.78478,     0.78579,     0.78679,     0.78779,     0.78879,     0.78979,     0.79079,     0.79179,\n",
       "           0.79279,     0.79379,     0.79479,      0.7958,      0.7968,      0.7978,      0.7988,      0.7998,      0.8008,      0.8018,      0.8028,      0.8038,      0.8048,     0.80581,     0.80681,     0.80781,     0.80881,     0.80981,     0.81081,     0.81181,     0.81281,     0.81381,     0.81481,     0.81582,\n",
       "           0.81682,     0.81782,     0.81882,     0.81982,     0.82082,     0.82182,     0.82282,     0.82382,     0.82482,     0.82583,     0.82683,     0.82783,     0.82883,     0.82983,     0.83083,     0.83183,     0.83283,     0.83383,     0.83483,     0.83584,     0.83684,     0.83784,     0.83884,     0.83984,\n",
       "           0.84084,     0.84184,     0.84284,     0.84384,     0.84484,     0.84585,     0.84685,     0.84785,     0.84885,     0.84985,     0.85085,     0.85185,     0.85285,     0.85385,     0.85485,     0.85586,     0.85686,     0.85786,     0.85886,     0.85986,     0.86086,     0.86186,     0.86286,     0.86386,\n",
       "           0.86486,     0.86587,     0.86687,     0.86787,     0.86887,     0.86987,     0.87087,     0.87187,     0.87287,     0.87387,     0.87487,     0.87588,     0.87688,     0.87788,     0.87888,     0.87988,     0.88088,     0.88188,     0.88288,     0.88388,     0.88488,     0.88589,     0.88689,     0.88789,\n",
       "           0.88889,     0.88989,     0.89089,     0.89189,     0.89289,     0.89389,     0.89489,      0.8959,      0.8969,      0.8979,      0.8989,      0.8999,      0.9009,      0.9019,      0.9029,      0.9039,      0.9049,     0.90591,     0.90691,     0.90791,     0.90891,     0.90991,     0.91091,     0.91191,\n",
       "           0.91291,     0.91391,     0.91491,     0.91592,     0.91692,     0.91792,     0.91892,     0.91992,     0.92092,     0.92192,     0.92292,     0.92392,     0.92492,     0.92593,     0.92693,     0.92793,     0.92893,     0.92993,     0.93093,     0.93193,     0.93293,     0.93393,     0.93493,     0.93594,\n",
       "           0.93694,     0.93794,     0.93894,     0.93994,     0.94094,     0.94194,     0.94294,     0.94394,     0.94494,     0.94595,     0.94695,     0.94795,     0.94895,     0.94995,     0.95095,     0.95195,     0.95295,     0.95395,     0.95495,     0.95596,     0.95696,     0.95796,     0.95896,     0.95996,\n",
       "           0.96096,     0.96196,     0.96296,     0.96396,     0.96496,     0.96597,     0.96697,     0.96797,     0.96897,     0.96997,     0.97097,     0.97197,     0.97297,     0.97397,     0.97497,     0.97598,     0.97698,     0.97798,     0.97898,     0.97998,     0.98098,     0.98198,     0.98298,     0.98398,\n",
       "           0.98498,     0.98599,     0.98699,     0.98799,     0.98899,     0.98999,     0.99099,     0.99199,     0.99299,     0.99399,     0.99499,       0.996,       0.997,       0.998,       0.999,           1]), array([[          1,           1,           1,           1,           1,           1,           1,           1,     0.98276,     0.98276,     0.98276,     0.98276,     0.96552,     0.96552,     0.96552,     0.96552,     0.96552,     0.96552,     0.96552,     0.96552,     0.96552,     0.96552,     0.96552,\n",
       "            0.96552,     0.96552,     0.96552,     0.96552,     0.96552,     0.96552,     0.96552,     0.96552,     0.96552,     0.96552,     0.96552,     0.96552,     0.96552,     0.96552,     0.96552,     0.96552,     0.96552,     0.96552,     0.96552,     0.96552,     0.96552,     0.96552,     0.96552,\n",
       "            0.96552,     0.96552,     0.96552,     0.96552,     0.96552,     0.96552,     0.96552,     0.96552,     0.96552,     0.96552,     0.96552,     0.96552,     0.96552,     0.96552,     0.96552,     0.96552,     0.96552,     0.96552,     0.96552,     0.96552,     0.96465,     0.95542,     0.94828,\n",
       "            0.94828,     0.94828,     0.93974,     0.93103,     0.93103,     0.93103,     0.93103,     0.93103,     0.93103,     0.93103,     0.93103,     0.93103,     0.93103,     0.93103,     0.93103,     0.93103,     0.93103,     0.93103,     0.92999,     0.92886,     0.92772,     0.92659,     0.92545,\n",
       "            0.92432,     0.92318,     0.92205,     0.92091,     0.91978,     0.91864,     0.91751,     0.91637,     0.91524,      0.9141,     0.91379,     0.91379,     0.91379,     0.91379,     0.91379,     0.91379,     0.91379,     0.91379,     0.91379,     0.91379,     0.91379,     0.91379,     0.91379,\n",
       "            0.91379,     0.91379,     0.91379,     0.91379,     0.91379,     0.91379,     0.91379,     0.91379,     0.91379,     0.91379,     0.91379,     0.91379,     0.91379,     0.91379,     0.91379,     0.91379,     0.91379,     0.91379,     0.91379,     0.91379,     0.91379,     0.91379,     0.91379,\n",
       "            0.91379,     0.91379,     0.91379,     0.91379,     0.91379,     0.91379,     0.91379,     0.91379,     0.91379,     0.91379,     0.91379,     0.91379,     0.91379,     0.91379,     0.91379,     0.91379,     0.91379,     0.91379,     0.91379,     0.91379,     0.91379,     0.91379,     0.91379,\n",
       "            0.91379,     0.91379,     0.91379,     0.91379,     0.91379,     0.91379,     0.91379,     0.91379,     0.91379,     0.91379,     0.91379,     0.91379,     0.91379,     0.91379,     0.91379,     0.91379,     0.91379,     0.91379,     0.91379,     0.91379,     0.91379,     0.91379,     0.91379,\n",
       "            0.91379,     0.91379,     0.91379,     0.91379,     0.91379,     0.91379,     0.91379,     0.91379,     0.91379,     0.91379,     0.91379,     0.91379,     0.91379,     0.91379,     0.91379,     0.91379,     0.91379,     0.91379,     0.91379,     0.91379,     0.91379,     0.91379,     0.91379,\n",
       "            0.91379,     0.91379,     0.91379,     0.91379,     0.91379,     0.91379,     0.91379,     0.91379,     0.91379,     0.91379,     0.91379,     0.91379,     0.91379,     0.91379,     0.91379,     0.91379,     0.91379,     0.91379,     0.91379,     0.91379,     0.91379,     0.91379,     0.91379,\n",
       "            0.91379,     0.91379,     0.91379,     0.91379,     0.91379,     0.91379,     0.91379,     0.91379,     0.91379,     0.91379,     0.91379,     0.91379,     0.91379,     0.91379,     0.91379,     0.91379,     0.91379,     0.91379,     0.91379,     0.91379,     0.91379,     0.91379,     0.91379,\n",
       "            0.91379,     0.91379,     0.91379,     0.91379,     0.91379,     0.91379,     0.91379,     0.91379,     0.91379,     0.91379,     0.91379,     0.91379,     0.91379,     0.91379,     0.91379,     0.91379,     0.91379,     0.91379,     0.91379,     0.91379,     0.91379,     0.91379,     0.91379,\n",
       "            0.91379,     0.91379,     0.91379,     0.91379,     0.91379,     0.91379,     0.91199,     0.90797,     0.90396,     0.89995,     0.89613,      0.8934,     0.89066,     0.88793,     0.88519,     0.88246,     0.87972,     0.87571,     0.87147,     0.86723,     0.86299,     0.86177,     0.86139,\n",
       "              0.861,     0.86062,     0.86024,     0.85985,     0.85947,     0.85909,     0.85871,     0.85832,     0.85794,     0.85756,     0.85717,     0.85679,     0.85641,     0.85602,     0.85564,     0.85526,     0.85488,     0.85449,     0.85411,     0.85373,     0.85334,     0.85296,     0.85258,\n",
       "            0.85219,     0.85181,     0.85143,     0.85105,     0.85066,     0.85028,      0.8499,     0.84951,     0.84913,     0.84875,     0.84836,     0.84798,      0.8476,     0.84722,     0.84683,     0.84645,     0.84607,     0.84568,      0.8453,     0.84492,     0.83547,      0.8275,     0.82724,\n",
       "            0.82699,     0.82673,     0.82648,     0.82622,     0.82597,     0.82571,     0.82546,      0.8252,     0.82495,     0.82469,     0.82444,     0.82418,     0.82393,     0.82367,     0.82342,     0.82316,     0.82291,     0.82265,      0.8224,     0.82215,     0.82189,     0.82164,     0.82138,\n",
       "            0.82113,     0.82087,     0.82062,     0.82036,     0.82011,     0.81985,      0.8196,     0.81934,     0.81909,     0.81883,     0.81858,     0.81832,     0.81807,     0.81781,     0.81756,      0.8173,     0.81705,     0.81679,     0.81654,     0.81629,     0.81603,     0.81578,     0.81552,\n",
       "            0.81527,     0.81501,     0.81476,      0.8145,     0.81425,     0.81399,     0.81374,     0.81348,     0.81323,     0.81297,     0.81272,     0.81246,     0.81221,     0.81195,      0.8117,     0.81144,     0.81119,     0.81093,     0.81068,     0.81043,     0.80987,     0.80918,     0.80849,\n",
       "            0.80779,      0.8071,     0.80641,     0.80571,     0.80502,     0.80433,     0.80364,     0.80294,     0.80225,     0.80156,     0.80087,     0.80017,     0.79948,     0.79879,      0.7981,      0.7974,     0.79671,     0.79602,     0.79532,     0.79463,     0.79394,     0.79325,      0.7931,\n",
       "             0.7931,      0.7931,      0.7931,      0.7931,      0.7931,      0.7931,      0.7931,      0.7931,      0.7931,      0.7931,      0.7931,      0.7931,      0.7931,      0.7931,      0.7931,      0.7931,      0.7931,      0.7931,      0.7931,      0.7931,      0.7931,      0.7931,      0.7931,\n",
       "             0.7931,      0.7931,      0.7931,      0.7931,      0.7931,      0.7931,      0.7931,      0.7931,      0.7931,      0.7931,      0.7931,      0.7931,      0.7931,      0.7931,      0.7931,      0.7931,      0.7931,      0.7931,      0.7931,      0.7931,      0.7931,      0.7931,      0.7931,\n",
       "             0.7931,      0.7931,      0.7931,      0.7931,      0.7931,      0.7931,      0.7931,      0.7931,      0.7931,      0.7931,      0.7931,      0.7931,      0.7931,      0.7931,      0.7931,      0.7931,      0.7931,      0.7931,      0.7931,      0.7931,      0.7931,      0.7931,      0.7931,\n",
       "             0.7931,      0.7931,      0.7931,     0.79187,     0.79051,     0.78914,     0.78778,     0.78642,     0.78505,     0.78369,     0.78233,     0.78096,      0.7796,     0.77823,     0.77687,     0.77586,     0.77586,     0.77586,     0.77586,     0.77586,     0.77586,     0.77586,     0.77586,\n",
       "            0.77586,     0.77586,     0.77586,     0.77586,     0.77586,     0.77586,     0.77586,     0.77586,     0.77586,     0.77586,     0.77586,     0.77586,     0.77586,     0.77586,     0.77586,     0.77586,     0.77586,     0.77586,     0.77586,     0.77586,     0.77586,     0.77586,     0.77586,\n",
       "            0.77586,     0.77586,     0.77586,     0.77586,     0.77586,     0.77586,     0.77586,     0.77586,     0.77586,     0.77586,     0.77586,     0.77586,     0.77586,     0.77586,     0.77586,     0.77586,     0.77586,     0.77586,     0.77586,     0.77586,     0.77586,     0.77586,     0.77586,\n",
       "            0.77586,     0.77586,     0.77586,     0.77586,     0.77586,     0.77586,     0.77586,     0.77586,     0.77586,     0.77586,     0.77586,     0.77586,     0.77586,     0.77586,     0.77586,     0.77586,     0.77586,     0.77586,     0.77586,     0.77586,     0.77586,     0.77586,     0.77586,\n",
       "            0.77586,     0.77586,     0.77586,     0.77586,     0.77586,     0.77586,     0.77586,     0.77586,     0.77586,     0.77586,     0.77586,     0.77586,     0.77586,     0.77586,     0.77586,     0.77586,     0.77586,     0.77586,     0.77586,     0.77586,     0.77586,     0.77586,     0.77586,\n",
       "            0.77586,     0.77586,     0.77586,     0.77586,     0.77586,     0.77586,     0.77586,     0.77586,     0.77586,     0.77586,     0.77586,     0.77586,     0.77586,     0.77586,     0.77586,     0.77586,     0.77586,     0.77586,     0.77586,     0.77586,     0.77586,     0.77586,     0.77586,\n",
       "            0.77586,     0.77586,     0.77586,     0.77586,     0.77586,     0.77586,     0.77586,     0.77586,     0.77586,     0.77586,     0.77586,     0.77586,     0.77586,     0.77586,     0.77586,     0.77014,     0.76376,     0.75862,     0.75862,     0.75862,     0.75862,     0.75862,     0.75862,\n",
       "            0.75862,     0.75862,     0.75862,     0.75862,     0.75862,     0.75862,     0.75862,     0.75862,     0.75862,     0.75862,     0.75862,     0.75862,     0.75862,     0.75862,     0.75862,     0.75862,     0.75862,     0.75862,     0.75862,     0.75862,     0.75862,     0.75862,     0.75862,\n",
       "            0.75862,     0.75862,     0.75862,     0.75862,     0.75862,     0.75862,     0.75862,     0.75783,     0.75641,       0.755,     0.75358,     0.75216,     0.75075,     0.74933,     0.74791,      0.7465,     0.74508,     0.74367,     0.74225,     0.74065,     0.73877,     0.73689,     0.73501,\n",
       "            0.73313,     0.73125,     0.72937,     0.72749,     0.72561,     0.72414,     0.72414,     0.72414,     0.72414,     0.72414,     0.72414,     0.72414,     0.72414,     0.72414,     0.72414,     0.72414,     0.72414,     0.72414,     0.72414,     0.72414,     0.72414,      0.7241,     0.72383,\n",
       "            0.72357,     0.72331,     0.72304,     0.72278,     0.72251,     0.72225,     0.72199,     0.72172,     0.72146,      0.7212,     0.72093,     0.72067,      0.7204,     0.72014,     0.71988,     0.71961,     0.71935,     0.71909,     0.71882,     0.71856,     0.71829,     0.71803,     0.71777,\n",
       "             0.7175,     0.71724,     0.71698,     0.71671,     0.71645,     0.71618,     0.71592,     0.71566,     0.71539,     0.71513,     0.71487,      0.7146,     0.71434,     0.71407,     0.71381,     0.71355,     0.71328,     0.71302,     0.71276,     0.71249,     0.71223,     0.71196,      0.7117,\n",
       "            0.71144,     0.71117,     0.71091,     0.71065,     0.71038,     0.71012,     0.70985,     0.70959,     0.70933,     0.70906,      0.7088,     0.70854,     0.70827,     0.70801,     0.70774,     0.70748,     0.70722,     0.70695,     0.70564,     0.70404,     0.70244,     0.70085,     0.69925,\n",
       "            0.69765,     0.69605,     0.69446,     0.69286,     0.69126,     0.68966,     0.68966,     0.68966,     0.68966,     0.68966,     0.68966,     0.68966,     0.68966,     0.68966,     0.68966,     0.68966,     0.68966,     0.68966,     0.67139,     0.67014,     0.66888,     0.66763,     0.66638,\n",
       "            0.66513,     0.66387,     0.66262,     0.66137,     0.66012,     0.65886,     0.65761,     0.65636,     0.65495,     0.65063,     0.64631,     0.64198,      0.6379,     0.63742,     0.63694,     0.63645,     0.63597,     0.63549,       0.635,     0.63452,     0.63404,     0.63356,     0.63307,\n",
       "            0.63259,     0.63211,     0.63163,     0.63114,     0.63066,     0.63018,      0.6297,     0.62921,     0.62873,     0.62825,     0.62776,     0.62728,      0.6268,     0.62632,     0.62583,     0.62535,     0.62487,     0.62439,      0.6239,     0.62342,     0.62294,     0.62245,     0.62197,\n",
       "            0.62149,     0.62101,     0.62036,      0.6194,     0.61844,     0.61748,     0.61652,     0.61556,      0.6146,     0.61364,     0.61268,     0.61172,     0.61076,      0.6098,     0.60884,     0.60788,     0.60692,     0.60597,     0.60501,     0.60405,     0.60328,     0.60282,     0.60237,\n",
       "            0.60192,     0.60146,     0.60101,     0.60056,     0.60011,     0.59965,      0.5992,     0.59875,     0.59829,     0.59784,     0.59739,     0.59693,     0.59648,     0.59603,     0.59557,     0.59512,     0.59467,     0.59421,     0.59376,     0.59331,     0.59285,      0.5924,     0.59195,\n",
       "             0.5915,     0.59104,     0.59059,     0.59014,     0.58968,     0.58923,     0.58878,     0.58832,     0.58787,     0.58742,     0.58696,     0.58651,     0.58074,     0.56874,     0.56795,     0.56716,     0.56637,     0.56558,     0.56479,       0.564,     0.56321,     0.56242,     0.56163,\n",
       "            0.56084,     0.56006,     0.55927,     0.55848,     0.55769,      0.5569,     0.55611,     0.55532,     0.55453,     0.55374,     0.55295,     0.55216,     0.54127,     0.52643,     0.51269,      0.4988,     0.49624,     0.49369,     0.49113,     0.48858,     0.48602,     0.48347,     0.47668,\n",
       "            0.46826,     0.46378,     0.46119,     0.45861,     0.45603,     0.45345,     0.45087,     0.44829,     0.41254,     0.40262,     0.39532,     0.39216,     0.38899,     0.38582,     0.38266,     0.37949,     0.35816,     0.32485,       0.311,      0.2999,     0.25772,     0.25415,     0.25057,\n",
       "              0.247,     0.24342,     0.22106,     0.20906,      0.1689,     0.16044,     0.14344,     0.11941,    0.082339,    0.028409,           0]]), 'Confidence', 'Recall']]\n",
       "fitness: np.float64(0.7343749941873403)\n",
       "keys: ['metrics/precision(B)', 'metrics/recall(B)', 'metrics/mAP50(B)', 'metrics/mAP50-95(B)']\n",
       "maps: array([    0.71321,     0.71321,     0.71321,     0.71321,     0.71321,     0.71321,     0.71321,     0.71321,     0.71321])\n",
       "names: {0: 'Automatic Rifle', 1: 'Bazooka', 2: 'Grenade Launcher', 3: 'Handgun', 4: 'Knife', 5: 'Shotgun', 6: 'SMG', 7: 'Sniper', 8: 'Sword'}\n",
       "nt_per_class: array([58,  0,  0,  0,  0,  0,  0,  0,  0])\n",
       "nt_per_image: array([29,  0,  0,  0,  0,  0,  0,  0,  0])\n",
       "results_dict: {'metrics/precision(B)': np.float64(0.7815008492870974), 'metrics/recall(B)': np.float64(0.9137931034482759), 'metrics/mAP50(B)': np.float64(0.9248510901496096), 'metrics/mAP50-95(B)': np.float64(0.7132109835248659), 'fitness': np.float64(0.7343749941873403)}\n",
       "save_dir: WindowsPath('runs/detect/train')\n",
       "speed: {'preprocess': 8.189710354882067, 'inference': 473.60697242527687, 'loss': 0.00019655723510117367, 'postprocess': 16.485720696248883}\n",
       "stats: {'tp': [], 'conf': [], 'pred_cls': [], 'target_cls': [], 'target_img': []}\n",
       "task: 'detect'"
      ]
     },
     "execution_count": 18,
     "metadata": {},
     "output_type": "execute_result"
    }
   ],
   "source": [
    "from ultralytics import YOLO\n",
    "import matplotlib.pyplot as plt\n",
    "\n",
    "# Load pretrained YOLOv8 nano model\n",
    "model = YOLO('yolov8n.pt')\n",
    "\n",
    "# Setup interactive plot\n",
    "plt.ion()\n",
    "fig, ax = plt.subplots()\n",
    "ax.set_title('YOLOv8 Training Metrics')\n",
    "ax.set_xlabel('Epoch')\n",
    "ax.set_ylabel('Value')\n",
    "lines = {\n",
    "    'loss': ax.plot([], [], label='Loss')[0],\n",
    "    'precision': ax.plot([], [], label='Precision')[0],\n",
    "    'recall': ax.plot([], [], label='Recall')[0],\n",
    "    'mAP': ax.plot([], [], label='mAP')[0]\n",
    "}\n",
    "plt.legend()\n",
    "\n",
    "# Store metrics\n",
    "metrics = {k: [] for k in lines.keys()}\n",
    "\n",
    "def plot_callback(trainer):\n",
    "    try:\n",
    "        loss = trainer.state.epoch_metrics.get('loss', None)\n",
    "        precision = trainer.state.epoch_metrics.get('precision', None)\n",
    "        recall = trainer.state.epoch_metrics.get('recall', None)\n",
    "        mAP = trainer.state.epoch_metrics.get('mAP_0.5', None)\n",
    "    except Exception:\n",
    "        loss = precision = recall = mAP = None\n",
    "\n",
    "    if loss is not None:\n",
    "        metrics['loss'].append(loss)\n",
    "    if precision is not None:\n",
    "        metrics['precision'].append(precision)\n",
    "    if recall is not None:\n",
    "        metrics['recall'].append(recall)\n",
    "    if mAP is not None:\n",
    "        metrics['mAP'].append(mAP)\n",
    "\n",
    "    epochs = range(len(metrics['loss']))\n",
    "    for k, line in lines.items():\n",
    "        line.set_data(epochs, metrics[k])\n",
    "    ax.relim()\n",
    "    ax.autoscale_view()\n",
    "    plt.draw()\n",
    "    plt.pause(0.01)\n",
    "\n",
    "# Attach the callback to end of each epoch\n",
    "model.add_callback('on_train_epoch_end', plot_callback)\n",
    "\n",
    "# Start training with early stopping on CPU and plot saving\n",
    "model.train(\n",
    "    data='C:/Users/USER/Desktop/Filtered_Weapons/weapons.yaml',\n",
    "    epochs=100,\n",
    "    batch=8,\n",
    "    imgsz=640,\n",
    "    patience=5,\n",
    "    plots=True,\n",
    "    device='cpu'\n",
    ")\n"
   ]
  },
  {
   "cell_type": "markdown",
   "id": "94420e8b",
   "metadata": {},
   "source": [
    "## YOLOv8 Training Report\n",
    "\n",
    "The script trains a **YOLOv8 nano object detection model** for weapon detection using a custom dataset. The training process utilizes transfer learning by starting with a pre-trained YOLOv8n model and fine-tuning it on a weapons classification task.\n",
    "\n",
    "### Training Configuration\n",
    "The model was configured with conservative settings suitable for CPU training: 100 epochs maximum, batch size of 8, input image resolution of 640x640 pixels, and early stopping with a patience of 5 epochs to prevent overfitting.\n",
    "\n",
    "### Performance Analysis\n",
    "\n",
    "**Overall Training Progression:** The model demonstrates strong learning capabilities with significant improvements across all key metrics during the 16-epoch training period.\n",
    "\n",
    "**Loss Reduction:** All loss components showed substantial improvement:\n",
    "- Box Loss decreased from 1.2420 to 0.8667 (30% reduction)\n",
    "- Classification Loss dropped dramatically from 3.6720 to 1.1650 (68% reduction)\n",
    "- Distribution Focal Loss improved from 1.4900 to 1.1840 (21% reduction)\n",
    "\n",
    "**Detection Performance:** The model achieved excellent detection metrics:\n",
    "- **Precision** improved remarkably from 0.150 to 0.904, indicating the model became highly accurate at avoiding false positives\n",
    "- **Recall** increased from 0.690 to 0.813, showing improved ability to detect actual weapon instances\n",
    "- **mAP50** (mean Average Precision at IoU 0.5) rose from 0.443 to 0.931, demonstrating outstanding object localization performance\n",
    "- **mAP50-95** improved from 0.315 to 0.675, indicating good performance across various IoU thresholds\n",
    "\n",
    "### Best Performance and Early Stopping\n",
    "\n",
    "**Peak Performance:** The model achieved its **best overall performance at epoch 11** with mAP50 of 0.925, precision of 0.781, recall of 0.914, and mAP50-95 of 0.713. This represents the optimal balance between precision and recall.\n",
    "\n",
    "**Early Stopping Impact:** The training was configured with patience=5, meaning it would stop if no improvement occurred for 5 consecutive epochs. However, for mAP50, the model continued showing improvements through epoch 16, suggesting that early stopping had not yet been triggered when the visible training data ends. The early stopping mechanism would have preserved the best model weights from epoch 11 if validation performance had plateaued, preventing overfitting while maintaining peak performance.\n",
    "\n",
    "### Key Training Insights\n",
    "\n",
    "**Rapid Initial Learning:** The most dramatic improvements occurred in epochs 1-3, with classification loss dropping from 3.67 to 2.13, suggesting the pre-trained features quickly adapted to weapon detection.\n",
    "\n",
    "**Precision Breakthrough:** A notable precision jump occurred between epochs 2 and 3 (from 0.147 to 0.796), indicating the model learned to distinguish weapon features more effectively.\n",
    "\n",
    "**Optimal Performance Window:** Peak performance was achieved around epochs 10-16, with mAP50 consistently above 0.90, suggesting the model reached a highly effective state for weapon detection.\n",
    "\n",
    "### Training Outcome\n",
    "The training successfully produced a robust weapon detection model with over 90% precision and 81% recall, achieving a 93% mAP50 score. The substantial reduction in classification loss combined with high precision metrics indicates the model learned to reliably distinguish weapons from background objects, giving positive feedback on this experimental phase."
   ]
  },
  {
   "cell_type": "markdown",
   "id": "b8d2e3f2",
   "metadata": {},
   "source": [
    "#### Tabular representation of training results\n",
    "\n",
    "\n",
    "| Epoch | Box Loss | Cls Loss | DFL Loss | P (Precision) | R (Recall) | mAP50 | mAP50-95 |\n",
    "| ----- | -------- | -------- | -------- | ------------- | ---------- | ----- | -------- |\n",
    "| 1     | 1.2420   | 3.6720   | 1.4900   | 0.150         | 0.690      | 0.443 | 0.315    |\n",
    "| 2     | 1.1200   | 3.0230   | 1.3690   | 0.147         | 0.638      | 0.526 | 0.370    |\n",
    "| 3     | 1.0480   | 2.1300   | 1.2900   | 0.796         | 0.540      | 0.766 | 0.529    |\n",
    "| 4     | 1.0770   | 1.8530   | 1.2960   | 0.726         | 0.638      | 0.717 | 0.522    |\n",
    "| 5     | 0.9519   | 1.5290   | 1.2320   | 0.600         | 0.655      | 0.627 | 0.452    |\n",
    "| 6     | 0.9471   | 1.4260   | 1.2970   | 0.797         | 0.638      | 0.772 | 0.596    |\n",
    "| 7     | 0.9282   | 1.3660   | 1.2370   | 0.672         | 0.812      | 0.829 | 0.639    |\n",
    "| 8     | 0.9305   | 1.3780   | 1.2690   | 0.791         | 0.718      | 0.815 | 0.627    |\n",
    "| 9     | 0.9255   | 1.3890   | 1.2770   | 0.754         | 0.724      | 0.806 | 0.607    |\n",
    "| 10    | 0.9135   | 1.2800   | 1.2370   | 0.811         | 0.891      | 0.907 | 0.694    |\n",
    "| 11    | 0.8145   | 1.1310   | 1.1680   | 0.781         | 0.914      | 0.925 | 0.713    |\n",
    "| 12    | 0.8525   | 1.1740   | 1.1880   | 0.867         | 0.845      | 0.923 | 0.683    |\n",
    "| 13    | 0.9001   | 1.2420   | 1.2440   | 0.977         | 0.733      | 0.891 | 0.631    |\n",
    "| 14    | 0.9302   | 1.2070   | 1.2470   | 0.978         | 0.756      | 0.903 | 0.671    |\n",
    "| 15    | 0.8564   | 1.1070   | 1.1780   | 0.919         | 0.778      | 0.930 | 0.694    |\n",
    "| 16    | 0.8667   | 1.1650   | 1.1840   | 0.904         | 0.813      | 0.931 | 0.675    |"
   ]
  },
  {
   "cell_type": "markdown",
   "id": "7250f3ae",
   "metadata": {},
   "source": [
    "#### Testing the model.\n",
    "The  script below will:\n",
    "\n",
    "- Run inference on the internet-sourced weapon images.\n",
    "\n",
    "- Save annotated images in the predictions folder.\n",
    "\n",
    "- Save a CSV file listing each detection’s filename, class, confidence, and bounding box coordinates."
   ]
  },
  {
   "cell_type": "code",
   "execution_count": 8,
   "id": "cb6299e8",
   "metadata": {},
   "outputs": [
    {
     "name": "stdout",
     "output_type": "stream",
     "text": [
      "\n",
      "image 1/31 C:\\Users\\USER\\Desktop\\Filtered_Weapons\\weapon images irl\\384489_1.jpg: 640x640 1 Automatic Rifle, 1717.0ms\n",
      "image 2/31 C:\\Users\\USER\\Desktop\\Filtered_Weapons\\weapon images irl\\GettyImages-158759487-1-e1651251330769.jpg: 448x640 1 Automatic Rifle, 521.3ms\n",
      "image 3/31 C:\\Users\\USER\\Desktop\\Filtered_Weapons\\weapon images irl\\ISRAELIS-CARRY-GUNS.jpg: 480x640 (no detections), 407.9ms\n",
      "image 4/31 C:\\Users\\USER\\Desktop\\Filtered_Weapons\\weapon images irl\\Screenshot_12-8-2025_173944_external-content.duckduckgo.com.jpeg: 640x640 3 Automatic Rifles, 527.9ms\n",
      "image 5/31 C:\\Users\\USER\\Desktop\\Filtered_Weapons\\weapon images irl\\Screenshot_12-8-2025_174219_external-content.duckduckgo.com.jpeg: 416x640 1 Automatic Rifle, 340.7ms\n",
      "image 6/31 C:\\Users\\USER\\Desktop\\Filtered_Weapons\\weapon images irl\\Screenshot_12-8-2025_174538_external-content.duckduckgo.com.jpeg: 448x640 (no detections), 369.1ms\n",
      "image 7/31 C:\\Users\\USER\\Desktop\\Filtered_Weapons\\weapon images irl\\Screenshot_12-8-2025_181515_www.511tactical.com.jpeg: 352x640 2 Automatic Rifles, 308.8ms\n",
      "image 8/31 C:\\Users\\USER\\Desktop\\Filtered_Weapons\\weapon images irl\\Screenshot_12-8-2025_182218_www.npr.org.jpeg: 640x512 (no detections), 423.0ms\n",
      "image 9/31 C:\\Users\\USER\\Desktop\\Filtered_Weapons\\weapon images irl\\Screenshot_12-8-2025_182451_www.washingtonpost.com.jpeg: 448x640 2 Automatic Rifles, 366.4ms\n",
      "image 10/31 C:\\Users\\USER\\Desktop\\Filtered_Weapons\\weapon images irl\\Screenshot_13-8-2025_133645_www.thestar.co.uk.jpeg: 448x640 1 Automatic Rifle, 356.6ms\n",
      "image 11/31 C:\\Users\\USER\\Desktop\\Filtered_Weapons\\weapon images irl\\Screenshot_13-8-2025_134946_external-content.duckduckgo.com.jpeg: 384x640 (no detections), 325.8ms\n",
      "image 12/31 C:\\Users\\USER\\Desktop\\Filtered_Weapons\\weapon images irl\\Screenshot_13-8-2025_1401_uppercuttactical.com.jpeg: 448x640 1 Automatic Rifle, 363.3ms\n",
      "image 13/31 C:\\Users\\USER\\Desktop\\Filtered_Weapons\\weapon images irl\\Screenshot_13-8-2025_14052_uppercuttactical.com.jpeg: 416x640 (no detections), 333.3ms\n",
      "image 14/31 C:\\Users\\USER\\Desktop\\Filtered_Weapons\\weapon images irl\\Screenshot_13-8-2025_14152_uppercuttactical.com.jpeg: 448x640 2 Automatic Rifles, 2371.0ms\n",
      "image 15/31 C:\\Users\\USER\\Desktop\\Filtered_Weapons\\weapon images irl\\Screenshot_13-8-2025_75634_external-content.duckduckgo.com.jpeg: 384x640 (no detections), 569.3ms\n",
      "image 16/31 C:\\Users\\USER\\Desktop\\Filtered_Weapons\\weapon images irl\\Screenshot_13-8-2025_8043_external-content.duckduckgo.com.jpeg: 448x640 1 Automatic Rifle, 526.4ms\n",
      "image 17/31 C:\\Users\\USER\\Desktop\\Filtered_Weapons\\weapon images irl\\Screenshot_13-8-2025_81225_www.shutterstock.com.jpeg: 448x640 (no detections), 403.2ms\n",
      "image 18/31 C:\\Users\\USER\\Desktop\\Filtered_Weapons\\weapon images irl\\Screenshot_13-8-2025_81656_www.thearmorylife.com.jpeg: 384x640 3 Automatic Rifles, 348.2ms\n",
      "image 19/31 C:\\Users\\USER\\Desktop\\Filtered_Weapons\\weapon images irl\\Screenshot_13-8-2025_81758_www.thearmorylife.com.jpeg: 448x640 2 Automatic Rifles, 545.7ms\n",
      "image 20/31 C:\\Users\\USER\\Desktop\\Filtered_Weapons\\weapon images irl\\Screenshot_13-8-2025_83036_external-content.duckduckgo.com.jpeg: 384x640 1 Automatic Rifle, 347.5ms\n",
      "image 21/31 C:\\Users\\USER\\Desktop\\Filtered_Weapons\\weapon images irl\\Screenshot_13-8-2025_83330_artpictures.club.jpeg: 352x640 2 Automatic Rifles, 2327.2ms\n",
      "image 22/31 C:\\Users\\USER\\Desktop\\Filtered_Weapons\\weapon images irl\\Screenshot_13-8-2025_8732_external-content.duckduckgo.com.jpeg: 512x640 (no detections), 717.3ms\n",
      "image 23/31 C:\\Users\\USER\\Desktop\\Filtered_Weapons\\weapon images irl\\Utah-Open-Carry.jpg: 384x640 1 Automatic Rifle, 443.6ms\n",
      "image 24/31 C:\\Users\\USER\\Desktop\\Filtered_Weapons\\weapon images irl\\article-2253561-0D78FD19000005DC-733_634x419.jpg: 448x640 (no detections), 459.4ms\n",
      "image 25/31 C:\\Users\\USER\\Desktop\\Filtered_Weapons\\weapon images irl\\blackpool-rd-incident.jpg: 608x640 (no detections), 483.0ms\n",
      "image 26/31 C:\\Users\\USER\\Desktop\\Filtered_Weapons\\weapon images irl\\e12787104fe762f678abf00eb7098b39.jpg: 480x640 2 Automatic Rifles, 385.3ms\n",
      "image 27/31 C:\\Users\\USER\\Desktop\\Filtered_Weapons\\weapon images irl\\killer-6953019_1280.jpg: 640x480 1 Automatic Rifle, 412.0ms\n",
      "image 28/31 C:\\Users\\USER\\Desktop\\Filtered_Weapons\\weapon images irl\\ohio-open-carry.jpg: 352x640 1 Automatic Rifle, 295.1ms\n",
      "image 29/31 C:\\Users\\USER\\Desktop\\Filtered_Weapons\\weapon images irl\\shoulder_holster.png: 640x352 1 Automatic Rifle, 311.6ms\n",
      "image 30/31 C:\\Users\\USER\\Desktop\\Filtered_Weapons\\weapon images irl\\weapon-3836563_1280.jpg: 448x640 2 Automatic Rifles, 416.9ms\n",
      "image 31/31 C:\\Users\\USER\\Desktop\\Filtered_Weapons\\weapon images irl\\woman-7012863_1280.jpg: 640x448 1 Automatic Rifle, 373.0ms\n",
      "Speed: 10.9ms preprocess, 583.8ms inference, 3.0ms postprocess per image at shape (1, 3, 640, 448)\n",
      "Results saved to \u001b[1mC:\\Users\\USER\\Desktop\\Filtered_Weapons\\predictions\\results\u001b[0m\n",
      "Predictions have been saved in the stipulated folder.\n"
     ]
    }
   ],
   "source": [
    "# Testing the model on about 30 human- and weapon-related images sourced from the internet\n",
    "\n",
    "from ultralytics import YOLO\n",
    "import os\n",
    "import pandas as pd\n",
    "\n",
    "# Paths\n",
    "model_path = r\"C:\\Users\\USER\\AppData\\Local\\Programs\\Microsoft VS Code\\runs\\detect\\train\\weights\\best.pt\"\n",
    "image_folder = r\"C:\\Users\\USER\\Desktop\\Filtered_Weapons\\weapon images irl\"\n",
    "output_folder = r\"C:\\Users\\USER\\Desktop\\Filtered_Weapons\\predictions\"\n",
    "\n",
    "# Load model\n",
    "model = YOLO(model_path)\n",
    "\n",
    "# Run prediction\n",
    "results = model.predict(\n",
    "    source=image_folder,\n",
    "    imgsz=640,\n",
    "    conf=0.25,\n",
    "    save=True,\n",
    "    project=output_folder,\n",
    "    name=\"results\",\n",
    "    exist_ok=True\n",
    ")\n",
    "\n",
    "# Collect all detections into a list\n",
    "detections = []\n",
    "for r in results:\n",
    "    img_name = os.path.basename(r.path)\n",
    "    for box in r.boxes:\n",
    "        cls_id = int(box.cls)\n",
    "        label = model.names[cls_id]\n",
    "        conf = float(box.conf)\n",
    "        xyxy = box.xyxy[0].tolist()  # [x1, y1, x2, y2]\n",
    "        detections.append({\n",
    "            \"image\": img_name,\n",
    "            \"class\": label,\n",
    "            \"confidence\": round(conf, 3),\n",
    "            \"x1\": round(xyxy[0], 1),\n",
    "            \"y1\": round(xyxy[1], 1),\n",
    "            \"x2\": round(xyxy[2], 1),\n",
    "            \"y2\": round(xyxy[3], 1)\n",
    "        })\n",
    "\n",
    "# Save detections to CSV\n",
    "if detections:\n",
    "    csv_path = os.path.join(output_folder, \"weapon_detections.csv\")\n",
    "    pd.DataFrame(detections).to_csv(csv_path, index=False)\n",
    "\n",
    "print(\"Predictions have been saved in the stipulated folder.\")\n"
   ]
  },
  {
   "cell_type": "code",
   "execution_count": null,
   "id": "ad112db7",
   "metadata": {},
   "outputs": [
    {
     "data": {
      "text/html": [
       "<div>\n",
       "<style scoped>\n",
       "    .dataframe tbody tr th:only-of-type {\n",
       "        vertical-align: middle;\n",
       "    }\n",
       "\n",
       "    .dataframe tbody tr th {\n",
       "        vertical-align: top;\n",
       "    }\n",
       "\n",
       "    .dataframe thead th {\n",
       "        text-align: right;\n",
       "    }\n",
       "</style>\n",
       "<table border=\"1\" class=\"dataframe\">\n",
       "  <thead>\n",
       "    <tr style=\"text-align: right;\">\n",
       "      <th></th>\n",
       "      <th>image</th>\n",
       "      <th>class</th>\n",
       "      <th>confidence</th>\n",
       "      <th>x1</th>\n",
       "      <th>y1</th>\n",
       "      <th>x2</th>\n",
       "      <th>y2</th>\n",
       "    </tr>\n",
       "  </thead>\n",
       "  <tbody>\n",
       "    <tr>\n",
       "      <th>0</th>\n",
       "      <td>384489_1.jpg</td>\n",
       "      <td>Automatic Rifle</td>\n",
       "      <td>0.411</td>\n",
       "      <td>177.8</td>\n",
       "      <td>0.0</td>\n",
       "      <td>552.1</td>\n",
       "      <td>337.2</td>\n",
       "    </tr>\n",
       "    <tr>\n",
       "      <th>1</th>\n",
       "      <td>GettyImages-158759487-1-e1651251330769.jpg</td>\n",
       "      <td>Automatic Rifle</td>\n",
       "      <td>0.846</td>\n",
       "      <td>964.2</td>\n",
       "      <td>134.3</td>\n",
       "      <td>1992.0</td>\n",
       "      <td>1226.3</td>\n",
       "    </tr>\n",
       "    <tr>\n",
       "      <th>2</th>\n",
       "      <td>Screenshot_12-8-2025_173944_external-content.d...</td>\n",
       "      <td>Automatic Rifle</td>\n",
       "      <td>0.596</td>\n",
       "      <td>2.0</td>\n",
       "      <td>1.3</td>\n",
       "      <td>337.5</td>\n",
       "      <td>144.9</td>\n",
       "    </tr>\n",
       "    <tr>\n",
       "      <th>3</th>\n",
       "      <td>Screenshot_12-8-2025_173944_external-content.d...</td>\n",
       "      <td>Automatic Rifle</td>\n",
       "      <td>0.418</td>\n",
       "      <td>188.8</td>\n",
       "      <td>321.8</td>\n",
       "      <td>355.1</td>\n",
       "      <td>486.2</td>\n",
       "    </tr>\n",
       "    <tr>\n",
       "      <th>4</th>\n",
       "      <td>Screenshot_12-8-2025_173944_external-content.d...</td>\n",
       "      <td>Automatic Rifle</td>\n",
       "      <td>0.336</td>\n",
       "      <td>0.0</td>\n",
       "      <td>0.3</td>\n",
       "      <td>339.2</td>\n",
       "      <td>315.8</td>\n",
       "    </tr>\n",
       "    <tr>\n",
       "      <th>5</th>\n",
       "      <td>Screenshot_12-8-2025_174219_external-content.d...</td>\n",
       "      <td>Automatic Rifle</td>\n",
       "      <td>0.260</td>\n",
       "      <td>0.0</td>\n",
       "      <td>0.0</td>\n",
       "      <td>264.9</td>\n",
       "      <td>331.0</td>\n",
       "    </tr>\n",
       "    <tr>\n",
       "      <th>6</th>\n",
       "      <td>Screenshot_12-8-2025_181515_www.511tactical.co...</td>\n",
       "      <td>Automatic Rifle</td>\n",
       "      <td>0.876</td>\n",
       "      <td>356.5</td>\n",
       "      <td>0.0</td>\n",
       "      <td>878.0</td>\n",
       "      <td>415.2</td>\n",
       "    </tr>\n",
       "    <tr>\n",
       "      <th>7</th>\n",
       "      <td>Screenshot_12-8-2025_181515_www.511tactical.co...</td>\n",
       "      <td>Automatic Rifle</td>\n",
       "      <td>0.465</td>\n",
       "      <td>133.4</td>\n",
       "      <td>0.0</td>\n",
       "      <td>523.2</td>\n",
       "      <td>401.4</td>\n",
       "    </tr>\n",
       "    <tr>\n",
       "      <th>8</th>\n",
       "      <td>Screenshot_12-8-2025_182451_www.washingtonpost...</td>\n",
       "      <td>Automatic Rifle</td>\n",
       "      <td>0.685</td>\n",
       "      <td>627.4</td>\n",
       "      <td>109.3</td>\n",
       "      <td>775.9</td>\n",
       "      <td>399.6</td>\n",
       "    </tr>\n",
       "    <tr>\n",
       "      <th>9</th>\n",
       "      <td>Screenshot_12-8-2025_182451_www.washingtonpost...</td>\n",
       "      <td>Automatic Rifle</td>\n",
       "      <td>0.337</td>\n",
       "      <td>346.0</td>\n",
       "      <td>303.2</td>\n",
       "      <td>493.4</td>\n",
       "      <td>431.3</td>\n",
       "    </tr>\n",
       "    <tr>\n",
       "      <th>10</th>\n",
       "      <td>Screenshot_13-8-2025_133645_www.thestar.co.uk....</td>\n",
       "      <td>Automatic Rifle</td>\n",
       "      <td>0.263</td>\n",
       "      <td>1.5</td>\n",
       "      <td>28.8</td>\n",
       "      <td>221.8</td>\n",
       "      <td>457.9</td>\n",
       "    </tr>\n",
       "    <tr>\n",
       "      <th>11</th>\n",
       "      <td>Screenshot_13-8-2025_1401_uppercuttactical.com...</td>\n",
       "      <td>Automatic Rifle</td>\n",
       "      <td>0.496</td>\n",
       "      <td>3.3</td>\n",
       "      <td>188.3</td>\n",
       "      <td>791.0</td>\n",
       "      <td>457.5</td>\n",
       "    </tr>\n",
       "    <tr>\n",
       "      <th>12</th>\n",
       "      <td>Screenshot_13-8-2025_14152_uppercuttactical.co...</td>\n",
       "      <td>Automatic Rifle</td>\n",
       "      <td>0.532</td>\n",
       "      <td>121.2</td>\n",
       "      <td>2.9</td>\n",
       "      <td>502.0</td>\n",
       "      <td>473.5</td>\n",
       "    </tr>\n",
       "    <tr>\n",
       "      <th>13</th>\n",
       "      <td>Screenshot_13-8-2025_14152_uppercuttactical.co...</td>\n",
       "      <td>Automatic Rifle</td>\n",
       "      <td>0.382</td>\n",
       "      <td>142.1</td>\n",
       "      <td>13.3</td>\n",
       "      <td>673.4</td>\n",
       "      <td>466.0</td>\n",
       "    </tr>\n",
       "    <tr>\n",
       "      <th>14</th>\n",
       "      <td>Screenshot_13-8-2025_8043_external-content.duc...</td>\n",
       "      <td>Automatic Rifle</td>\n",
       "      <td>0.417</td>\n",
       "      <td>29.3</td>\n",
       "      <td>14.0</td>\n",
       "      <td>307.8</td>\n",
       "      <td>228.4</td>\n",
       "    </tr>\n",
       "    <tr>\n",
       "      <th>15</th>\n",
       "      <td>Screenshot_13-8-2025_81656_www.thearmorylife.c...</td>\n",
       "      <td>Automatic Rifle</td>\n",
       "      <td>0.933</td>\n",
       "      <td>0.4</td>\n",
       "      <td>60.3</td>\n",
       "      <td>163.7</td>\n",
       "      <td>398.4</td>\n",
       "    </tr>\n",
       "    <tr>\n",
       "      <th>16</th>\n",
       "      <td>Screenshot_13-8-2025_81656_www.thearmorylife.c...</td>\n",
       "      <td>Automatic Rifle</td>\n",
       "      <td>0.742</td>\n",
       "      <td>322.0</td>\n",
       "      <td>83.7</td>\n",
       "      <td>591.7</td>\n",
       "      <td>311.8</td>\n",
       "    </tr>\n",
       "    <tr>\n",
       "      <th>17</th>\n",
       "      <td>Screenshot_13-8-2025_81656_www.thearmorylife.c...</td>\n",
       "      <td>Automatic Rifle</td>\n",
       "      <td>0.720</td>\n",
       "      <td>310.5</td>\n",
       "      <td>75.6</td>\n",
       "      <td>680.0</td>\n",
       "      <td>307.8</td>\n",
       "    </tr>\n",
       "    <tr>\n",
       "      <th>18</th>\n",
       "      <td>Screenshot_13-8-2025_81758_www.thearmorylife.c...</td>\n",
       "      <td>Automatic Rifle</td>\n",
       "      <td>0.668</td>\n",
       "      <td>0.0</td>\n",
       "      <td>0.0</td>\n",
       "      <td>330.7</td>\n",
       "      <td>431.6</td>\n",
       "    </tr>\n",
       "    <tr>\n",
       "      <th>19</th>\n",
       "      <td>Screenshot_13-8-2025_81758_www.thearmorylife.c...</td>\n",
       "      <td>Automatic Rifle</td>\n",
       "      <td>0.635</td>\n",
       "      <td>0.6</td>\n",
       "      <td>0.0</td>\n",
       "      <td>333.0</td>\n",
       "      <td>246.0</td>\n",
       "    </tr>\n",
       "    <tr>\n",
       "      <th>20</th>\n",
       "      <td>Screenshot_13-8-2025_83036_external-content.du...</td>\n",
       "      <td>Automatic Rifle</td>\n",
       "      <td>0.360</td>\n",
       "      <td>0.0</td>\n",
       "      <td>75.0</td>\n",
       "      <td>153.7</td>\n",
       "      <td>608.8</td>\n",
       "    </tr>\n",
       "    <tr>\n",
       "      <th>21</th>\n",
       "      <td>Screenshot_13-8-2025_83330_artpictures.club.jpeg</td>\n",
       "      <td>Automatic Rifle</td>\n",
       "      <td>0.990</td>\n",
       "      <td>113.3</td>\n",
       "      <td>0.0</td>\n",
       "      <td>699.6</td>\n",
       "      <td>347.0</td>\n",
       "    </tr>\n",
       "    <tr>\n",
       "      <th>22</th>\n",
       "      <td>Screenshot_13-8-2025_83330_artpictures.club.jpeg</td>\n",
       "      <td>Automatic Rifle</td>\n",
       "      <td>0.334</td>\n",
       "      <td>494.9</td>\n",
       "      <td>3.6</td>\n",
       "      <td>689.8</td>\n",
       "      <td>218.0</td>\n",
       "    </tr>\n",
       "    <tr>\n",
       "      <th>23</th>\n",
       "      <td>Utah-Open-Carry.jpg</td>\n",
       "      <td>Automatic Rifle</td>\n",
       "      <td>0.847</td>\n",
       "      <td>324.9</td>\n",
       "      <td>1.2</td>\n",
       "      <td>523.3</td>\n",
       "      <td>242.5</td>\n",
       "    </tr>\n",
       "    <tr>\n",
       "      <th>24</th>\n",
       "      <td>e12787104fe762f678abf00eb7098b39.jpg</td>\n",
       "      <td>Automatic Rifle</td>\n",
       "      <td>0.731</td>\n",
       "      <td>168.6</td>\n",
       "      <td>12.4</td>\n",
       "      <td>320.0</td>\n",
       "      <td>161.6</td>\n",
       "    </tr>\n",
       "    <tr>\n",
       "      <th>25</th>\n",
       "      <td>e12787104fe762f678abf00eb7098b39.jpg</td>\n",
       "      <td>Automatic Rifle</td>\n",
       "      <td>0.319</td>\n",
       "      <td>32.8</td>\n",
       "      <td>44.0</td>\n",
       "      <td>113.2</td>\n",
       "      <td>224.6</td>\n",
       "    </tr>\n",
       "    <tr>\n",
       "      <th>26</th>\n",
       "      <td>killer-6953019_1280.jpg</td>\n",
       "      <td>Automatic Rifle</td>\n",
       "      <td>0.585</td>\n",
       "      <td>21.1</td>\n",
       "      <td>272.5</td>\n",
       "      <td>903.0</td>\n",
       "      <td>963.5</td>\n",
       "    </tr>\n",
       "    <tr>\n",
       "      <th>27</th>\n",
       "      <td>ohio-open-carry.jpg</td>\n",
       "      <td>Automatic Rifle</td>\n",
       "      <td>0.342</td>\n",
       "      <td>302.7</td>\n",
       "      <td>0.0</td>\n",
       "      <td>1197.8</td>\n",
       "      <td>505.4</td>\n",
       "    </tr>\n",
       "    <tr>\n",
       "      <th>28</th>\n",
       "      <td>shoulder_holster.png</td>\n",
       "      <td>Automatic Rifle</td>\n",
       "      <td>0.861</td>\n",
       "      <td>0.0</td>\n",
       "      <td>5.9</td>\n",
       "      <td>334.0</td>\n",
       "      <td>510.9</td>\n",
       "    </tr>\n",
       "    <tr>\n",
       "      <th>29</th>\n",
       "      <td>weapon-3836563_1280.jpg</td>\n",
       "      <td>Automatic Rifle</td>\n",
       "      <td>0.885</td>\n",
       "      <td>246.6</td>\n",
       "      <td>0.0</td>\n",
       "      <td>930.1</td>\n",
       "      <td>824.9</td>\n",
       "    </tr>\n",
       "    <tr>\n",
       "      <th>30</th>\n",
       "      <td>weapon-3836563_1280.jpg</td>\n",
       "      <td>Automatic Rifle</td>\n",
       "      <td>0.851</td>\n",
       "      <td>308.2</td>\n",
       "      <td>0.0</td>\n",
       "      <td>1280.0</td>\n",
       "      <td>806.9</td>\n",
       "    </tr>\n",
       "    <tr>\n",
       "      <th>31</th>\n",
       "      <td>woman-7012863_1280.jpg</td>\n",
       "      <td>Automatic Rifle</td>\n",
       "      <td>0.326</td>\n",
       "      <td>196.2</td>\n",
       "      <td>60.5</td>\n",
       "      <td>707.8</td>\n",
       "      <td>937.3</td>\n",
       "    </tr>\n",
       "  </tbody>\n",
       "</table>\n",
       "</div>"
      ],
      "text/plain": [
       "                                                image            class  \\\n",
       "0                                        384489_1.jpg  Automatic Rifle   \n",
       "1          GettyImages-158759487-1-e1651251330769.jpg  Automatic Rifle   \n",
       "2   Screenshot_12-8-2025_173944_external-content.d...  Automatic Rifle   \n",
       "3   Screenshot_12-8-2025_173944_external-content.d...  Automatic Rifle   \n",
       "4   Screenshot_12-8-2025_173944_external-content.d...  Automatic Rifle   \n",
       "5   Screenshot_12-8-2025_174219_external-content.d...  Automatic Rifle   \n",
       "6   Screenshot_12-8-2025_181515_www.511tactical.co...  Automatic Rifle   \n",
       "7   Screenshot_12-8-2025_181515_www.511tactical.co...  Automatic Rifle   \n",
       "8   Screenshot_12-8-2025_182451_www.washingtonpost...  Automatic Rifle   \n",
       "9   Screenshot_12-8-2025_182451_www.washingtonpost...  Automatic Rifle   \n",
       "10  Screenshot_13-8-2025_133645_www.thestar.co.uk....  Automatic Rifle   \n",
       "11  Screenshot_13-8-2025_1401_uppercuttactical.com...  Automatic Rifle   \n",
       "12  Screenshot_13-8-2025_14152_uppercuttactical.co...  Automatic Rifle   \n",
       "13  Screenshot_13-8-2025_14152_uppercuttactical.co...  Automatic Rifle   \n",
       "14  Screenshot_13-8-2025_8043_external-content.duc...  Automatic Rifle   \n",
       "15  Screenshot_13-8-2025_81656_www.thearmorylife.c...  Automatic Rifle   \n",
       "16  Screenshot_13-8-2025_81656_www.thearmorylife.c...  Automatic Rifle   \n",
       "17  Screenshot_13-8-2025_81656_www.thearmorylife.c...  Automatic Rifle   \n",
       "18  Screenshot_13-8-2025_81758_www.thearmorylife.c...  Automatic Rifle   \n",
       "19  Screenshot_13-8-2025_81758_www.thearmorylife.c...  Automatic Rifle   \n",
       "20  Screenshot_13-8-2025_83036_external-content.du...  Automatic Rifle   \n",
       "21   Screenshot_13-8-2025_83330_artpictures.club.jpeg  Automatic Rifle   \n",
       "22   Screenshot_13-8-2025_83330_artpictures.club.jpeg  Automatic Rifle   \n",
       "23                                Utah-Open-Carry.jpg  Automatic Rifle   \n",
       "24               e12787104fe762f678abf00eb7098b39.jpg  Automatic Rifle   \n",
       "25               e12787104fe762f678abf00eb7098b39.jpg  Automatic Rifle   \n",
       "26                            killer-6953019_1280.jpg  Automatic Rifle   \n",
       "27                                ohio-open-carry.jpg  Automatic Rifle   \n",
       "28                               shoulder_holster.png  Automatic Rifle   \n",
       "29                            weapon-3836563_1280.jpg  Automatic Rifle   \n",
       "30                            weapon-3836563_1280.jpg  Automatic Rifle   \n",
       "31                             woman-7012863_1280.jpg  Automatic Rifle   \n",
       "\n",
       "    confidence     x1     y1      x2      y2  \n",
       "0        0.411  177.8    0.0   552.1   337.2  \n",
       "1        0.846  964.2  134.3  1992.0  1226.3  \n",
       "2        0.596    2.0    1.3   337.5   144.9  \n",
       "3        0.418  188.8  321.8   355.1   486.2  \n",
       "4        0.336    0.0    0.3   339.2   315.8  \n",
       "5        0.260    0.0    0.0   264.9   331.0  \n",
       "6        0.876  356.5    0.0   878.0   415.2  \n",
       "7        0.465  133.4    0.0   523.2   401.4  \n",
       "8        0.685  627.4  109.3   775.9   399.6  \n",
       "9        0.337  346.0  303.2   493.4   431.3  \n",
       "10       0.263    1.5   28.8   221.8   457.9  \n",
       "11       0.496    3.3  188.3   791.0   457.5  \n",
       "12       0.532  121.2    2.9   502.0   473.5  \n",
       "13       0.382  142.1   13.3   673.4   466.0  \n",
       "14       0.417   29.3   14.0   307.8   228.4  \n",
       "15       0.933    0.4   60.3   163.7   398.4  \n",
       "16       0.742  322.0   83.7   591.7   311.8  \n",
       "17       0.720  310.5   75.6   680.0   307.8  \n",
       "18       0.668    0.0    0.0   330.7   431.6  \n",
       "19       0.635    0.6    0.0   333.0   246.0  \n",
       "20       0.360    0.0   75.0   153.7   608.8  \n",
       "21       0.990  113.3    0.0   699.6   347.0  \n",
       "22       0.334  494.9    3.6   689.8   218.0  \n",
       "23       0.847  324.9    1.2   523.3   242.5  \n",
       "24       0.731  168.6   12.4   320.0   161.6  \n",
       "25       0.319   32.8   44.0   113.2   224.6  \n",
       "26       0.585   21.1  272.5   903.0   963.5  \n",
       "27       0.342  302.7    0.0  1197.8   505.4  \n",
       "28       0.861    0.0    5.9   334.0   510.9  \n",
       "29       0.885  246.6    0.0   930.1   824.9  \n",
       "30       0.851  308.2    0.0  1280.0   806.9  \n",
       "31       0.326  196.2   60.5   707.8   937.3  "
      ]
     },
     "metadata": {},
     "output_type": "display_data"
    }
   ],
   "source": [
    "# Checking the csv file for results\n",
    "import pandas\n",
    "display (pandas.read_csv(r\"C:\\Users\\USER\\Desktop\\Filtered_Weapons\\predictions\\weapon_detections.csv\"))"
   ]
  },
  {
   "cell_type": "markdown",
   "id": "2942b173",
   "metadata": {},
   "source": [
    "**Exercise recap**\n",
    "\n",
    "This model was trained using YOLOv8 for weapon detection over 16 epochs with a 640×640 input size, using the best.pt checkpoint for inference. \n",
    "\n",
    "**Challenges and Recommendations**\n",
    "\n",
    "One major challenge I faced during this project was the limited diversity and size of the training dataset. With relatively few images per weapon type, the model tended to overfit and often generalized incorrectly — for example, classifying knives and handguns as automatic rifles. Additionally, the dataset had limited variations in lighting, background, viewing angle, and object scale, which reduced the model’s ability to handle real-world scenarios.\n",
    "\n",
    "For future work, I would prefer using a larger and more balanced dataset that includes more samples of each weapon category, captured under varied conditions. Collecting images from different environments, angles, and distances, and ensuring proper annotation quality will significantly improve accuracy. Incorporating synthetic data augmentation and sourcing from multiple datasets can also help broaden the model’s understanding and robustness.\n",
    "\n",
    "**Ethical Considerations:**\n",
    "Weapon detection models should be developed and deployed with caution to avoid misuse and to ensure privacy and safety. The dataset and application should strictly serve lawful and protective purposes, such as public safety and security monitoring.\n",
    "\n",
    "**Performance Note:**\n",
    "Given the dataset constraints, the model showed promising results on the training and validation data but struggled to accurately classify certain real-world examples. This reinforces the need for more representative data to improve generalization to unseen scenarios.\n",
    "\n",
    "\n",
    "\n",
    "\n",
    "---\n",
    "\n",
    "\n",
    "\n",
    "\n",
    "Abiodun Eesuola"
   ]
  }
 ],
 "metadata": {
  "kernelspec": {
   "display_name": "Python 3",
   "language": "python",
   "name": "python3"
  },
  "language_info": {
   "codemirror_mode": {
    "name": "ipython",
    "version": 3
   },
   "file_extension": ".py",
   "mimetype": "text/x-python",
   "name": "python",
   "nbconvert_exporter": "python",
   "pygments_lexer": "ipython3",
   "version": "3.11.0"
  }
 },
 "nbformat": 4,
 "nbformat_minor": 5
}
